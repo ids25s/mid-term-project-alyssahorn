{
 "cells": [
  {
   "cell_type": "markdown",
   "id": "b29efa74-b623-452a-9b3f-84553e09f5a9",
   "metadata": {},
   "source": [
    "---\n",
    "title: \"Midterm Project\"\n",
    "author: \"Alyssa Horn\"\n",
    "toc: true\n",
    "number-sections: true\n",
    "self-contained: true\n",
    "highlight-style: pygments\n",
    "format: \n",
    "  html: \n",
    "    code-fold: true\n",
    "    html-math-method: katex\n",
    "    self-contained: true\n",
    "  pdf: \n",
    "    geometry: \n",
    "      - top=30mm\n",
    "      - left=20mm\n",
    "---\n"
   ]
  },
  {
   "cell_type": "markdown",
   "id": "25730c11-f9dd-4bc3-8676-f74f089956e7",
   "metadata": {},
   "source": [
    "## Notes\n",
    "* Cleaning\n",
    "    * missing zipcode not as big an issue for this dataset\n",
    "* Exploration\n",
    "    * Use leaflet like the homework but using different symbols\n",
    "    * response time - someone needs to look at it and close it - from created date to closed date\n",
    "    * 2 descriptors: SF and CB. Might want to do the comparison by borough. These are right skewed data. Might need to use a different scale?\n",
    "    * hypothesis tests\n",
    "      * Difference in borough: 2-way ANOVA, justify whatever test used\n",
    "    * Binary variable: should be similar to what we have in iii\n",
    "* Modeling the count\n",
    "    * i. should get 174\n",
    "    * Use zipcode as key to merge\n",
    "    * lag: maybe if there is more rain - then there are more complaints the next day?\n",
    "    * Neg binomial is def better because mean and variance do not need to be the same\n",
    "    * creating count code is on class notes along with the lag"
   ]
  },
  {
   "cell_type": "markdown",
   "id": "e39a0611-e6e4-4961-a359-e8a8f2533176",
   "metadata": {},
   "source": [
    "# Data Cleaning"
   ]
  },
  {
   "cell_type": "markdown",
   "id": "aae023e7-6d45-407d-9cf3-9a715700dbf6",
   "metadata": {},
   "source": [
    "## Import the data, rename the columns with our preferred styles."
   ]
  },
  {
   "cell_type": "code",
   "execution_count": 1,
   "id": "d9ba0c94-931d-4e21-9b4f-ffc89a38f13d",
   "metadata": {},
   "outputs": [
    {
     "data": {
      "text/html": [
       "<div>\n",
       "<style scoped>\n",
       "    .dataframe tbody tr th:only-of-type {\n",
       "        vertical-align: middle;\n",
       "    }\n",
       "\n",
       "    .dataframe tbody tr th {\n",
       "        vertical-align: top;\n",
       "    }\n",
       "\n",
       "    .dataframe thead th {\n",
       "        text-align: right;\n",
       "    }\n",
       "</style>\n",
       "<table border=\"1\" class=\"dataframe\">\n",
       "  <thead>\n",
       "    <tr style=\"text-align: right;\">\n",
       "      <th></th>\n",
       "      <th>unique_key</th>\n",
       "      <th>created_date</th>\n",
       "      <th>closed_date</th>\n",
       "      <th>agency</th>\n",
       "      <th>agency_name</th>\n",
       "      <th>complaint_type</th>\n",
       "      <th>descriptor</th>\n",
       "      <th>location_type</th>\n",
       "      <th>incident_zip</th>\n",
       "      <th>incident_address</th>\n",
       "      <th>...</th>\n",
       "      <th>vehicle_type</th>\n",
       "      <th>taxi_company_borough</th>\n",
       "      <th>taxi_pick_up_location</th>\n",
       "      <th>bridge_highway_name</th>\n",
       "      <th>bridge_highway_direction</th>\n",
       "      <th>road_ramp</th>\n",
       "      <th>bridge_highway_segment</th>\n",
       "      <th>latitude</th>\n",
       "      <th>longitude</th>\n",
       "      <th>location</th>\n",
       "    </tr>\n",
       "  </thead>\n",
       "  <tbody>\n",
       "    <tr>\n",
       "      <th>0</th>\n",
       "      <td>63574884</td>\n",
       "      <td>12/31/2024 11:05:00 PM</td>\n",
       "      <td>01/01/2025 05:55:00 AM</td>\n",
       "      <td>DEP</td>\n",
       "      <td>Department of Environmental Protection</td>\n",
       "      <td>Sewer</td>\n",
       "      <td>Street Flooding (SJ)</td>\n",
       "      <td>NaN</td>\n",
       "      <td>11434.0</td>\n",
       "      <td>177-37 135 AVENUE</td>\n",
       "      <td>...</td>\n",
       "      <td>NaN</td>\n",
       "      <td>NaN</td>\n",
       "      <td>NaN</td>\n",
       "      <td>NaN</td>\n",
       "      <td>NaN</td>\n",
       "      <td>NaN</td>\n",
       "      <td>NaN</td>\n",
       "      <td>40.675681</td>\n",
       "      <td>-73.762969</td>\n",
       "      <td>(40.67568056757403, -73.76296916912234)</td>\n",
       "    </tr>\n",
       "    <tr>\n",
       "      <th>1</th>\n",
       "      <td>63580185</td>\n",
       "      <td>12/31/2024 11:02:00 PM</td>\n",
       "      <td>01/01/2025 10:30:00 AM</td>\n",
       "      <td>DEP</td>\n",
       "      <td>Department of Environmental Protection</td>\n",
       "      <td>Sewer</td>\n",
       "      <td>Street Flooding (SJ)</td>\n",
       "      <td>NaN</td>\n",
       "      <td>11219.0</td>\n",
       "      <td>4102 14 AVENUE</td>\n",
       "      <td>...</td>\n",
       "      <td>NaN</td>\n",
       "      <td>NaN</td>\n",
       "      <td>NaN</td>\n",
       "      <td>NaN</td>\n",
       "      <td>NaN</td>\n",
       "      <td>NaN</td>\n",
       "      <td>NaN</td>\n",
       "      <td>40.638098</td>\n",
       "      <td>-73.985346</td>\n",
       "      <td>(40.63809797146557, -73.98534616586583)</td>\n",
       "    </tr>\n",
       "    <tr>\n",
       "      <th>2</th>\n",
       "      <td>63573084</td>\n",
       "      <td>12/31/2024 11:02:00 PM</td>\n",
       "      <td>01/01/2025 06:20:00 AM</td>\n",
       "      <td>DEP</td>\n",
       "      <td>Department of Environmental Protection</td>\n",
       "      <td>Sewer</td>\n",
       "      <td>Street Flooding (SJ)</td>\n",
       "      <td>NaN</td>\n",
       "      <td>11361.0</td>\n",
       "      <td>35-34 CORPORAL KENNEDY STREET</td>\n",
       "      <td>...</td>\n",
       "      <td>NaN</td>\n",
       "      <td>NaN</td>\n",
       "      <td>NaN</td>\n",
       "      <td>NaN</td>\n",
       "      <td>NaN</td>\n",
       "      <td>NaN</td>\n",
       "      <td>NaN</td>\n",
       "      <td>40.767455</td>\n",
       "      <td>-73.778079</td>\n",
       "      <td>(40.767454543462755, -73.77807940403599)</td>\n",
       "    </tr>\n",
       "    <tr>\n",
       "      <th>3</th>\n",
       "      <td>63581809</td>\n",
       "      <td>12/31/2024 10:35:00 PM</td>\n",
       "      <td>01/01/2025 11:20:00 AM</td>\n",
       "      <td>DEP</td>\n",
       "      <td>Department of Environmental Protection</td>\n",
       "      <td>Sewer</td>\n",
       "      <td>Street Flooding (SJ)</td>\n",
       "      <td>NaN</td>\n",
       "      <td>11219.0</td>\n",
       "      <td>NaN</td>\n",
       "      <td>...</td>\n",
       "      <td>NaN</td>\n",
       "      <td>NaN</td>\n",
       "      <td>NaN</td>\n",
       "      <td>NaN</td>\n",
       "      <td>NaN</td>\n",
       "      <td>NaN</td>\n",
       "      <td>NaN</td>\n",
       "      <td>40.636495</td>\n",
       "      <td>-73.987000</td>\n",
       "      <td>(40.636495214873584, -73.98700030399515)</td>\n",
       "    </tr>\n",
       "    <tr>\n",
       "      <th>4</th>\n",
       "      <td>63578460</td>\n",
       "      <td>12/31/2024 10:11:00 PM</td>\n",
       "      <td>01/02/2025 12:45:00 PM</td>\n",
       "      <td>DEP</td>\n",
       "      <td>Department of Environmental Protection</td>\n",
       "      <td>Sewer</td>\n",
       "      <td>Catch Basin Clogged/Flooding (Use Comments) (SC)</td>\n",
       "      <td>NaN</td>\n",
       "      <td>10305.0</td>\n",
       "      <td>225 HYLAN BOULEVARD</td>\n",
       "      <td>...</td>\n",
       "      <td>NaN</td>\n",
       "      <td>NaN</td>\n",
       "      <td>NaN</td>\n",
       "      <td>NaN</td>\n",
       "      <td>NaN</td>\n",
       "      <td>NaN</td>\n",
       "      <td>NaN</td>\n",
       "      <td>40.612337</td>\n",
       "      <td>-74.069589</td>\n",
       "      <td>(40.612337196854604, -74.06958876337421)</td>\n",
       "    </tr>\n",
       "  </tbody>\n",
       "</table>\n",
       "<p>5 rows × 41 columns</p>\n",
       "</div>"
      ],
      "text/plain": [
       "   unique_key            created_date             closed_date agency  \\\n",
       "0    63574884  12/31/2024 11:05:00 PM  01/01/2025 05:55:00 AM    DEP   \n",
       "1    63580185  12/31/2024 11:02:00 PM  01/01/2025 10:30:00 AM    DEP   \n",
       "2    63573084  12/31/2024 11:02:00 PM  01/01/2025 06:20:00 AM    DEP   \n",
       "3    63581809  12/31/2024 10:35:00 PM  01/01/2025 11:20:00 AM    DEP   \n",
       "4    63578460  12/31/2024 10:11:00 PM  01/02/2025 12:45:00 PM    DEP   \n",
       "\n",
       "                              agency_name complaint_type  \\\n",
       "0  Department of Environmental Protection          Sewer   \n",
       "1  Department of Environmental Protection          Sewer   \n",
       "2  Department of Environmental Protection          Sewer   \n",
       "3  Department of Environmental Protection          Sewer   \n",
       "4  Department of Environmental Protection          Sewer   \n",
       "\n",
       "                                         descriptor  location_type  \\\n",
       "0                              Street Flooding (SJ)            NaN   \n",
       "1                              Street Flooding (SJ)            NaN   \n",
       "2                              Street Flooding (SJ)            NaN   \n",
       "3                              Street Flooding (SJ)            NaN   \n",
       "4  Catch Basin Clogged/Flooding (Use Comments) (SC)            NaN   \n",
       "\n",
       "   incident_zip               incident_address  ... vehicle_type  \\\n",
       "0       11434.0              177-37 135 AVENUE  ...          NaN   \n",
       "1       11219.0                 4102 14 AVENUE  ...          NaN   \n",
       "2       11361.0  35-34 CORPORAL KENNEDY STREET  ...          NaN   \n",
       "3       11219.0                            NaN  ...          NaN   \n",
       "4       10305.0            225 HYLAN BOULEVARD  ...          NaN   \n",
       "\n",
       "  taxi_company_borough taxi_pick_up_location bridge_highway_name  \\\n",
       "0                  NaN                   NaN                 NaN   \n",
       "1                  NaN                   NaN                 NaN   \n",
       "2                  NaN                   NaN                 NaN   \n",
       "3                  NaN                   NaN                 NaN   \n",
       "4                  NaN                   NaN                 NaN   \n",
       "\n",
       "  bridge_highway_direction road_ramp bridge_highway_segment   latitude  \\\n",
       "0                      NaN       NaN                    NaN  40.675681   \n",
       "1                      NaN       NaN                    NaN  40.638098   \n",
       "2                      NaN       NaN                    NaN  40.767455   \n",
       "3                      NaN       NaN                    NaN  40.636495   \n",
       "4                      NaN       NaN                    NaN  40.612337   \n",
       "\n",
       "   longitude                                  location  \n",
       "0 -73.762969   (40.67568056757403, -73.76296916912234)  \n",
       "1 -73.985346   (40.63809797146557, -73.98534616586583)  \n",
       "2 -73.778079  (40.767454543462755, -73.77807940403599)  \n",
       "3 -73.987000  (40.636495214873584, -73.98700030399515)  \n",
       "4 -74.069589  (40.612337196854604, -74.06958876337421)  \n",
       "\n",
       "[5 rows x 41 columns]"
      ]
     },
     "execution_count": 1,
     "metadata": {},
     "output_type": "execute_result"
    }
   ],
   "source": [
    "import pandas as pd\n",
    "\n",
    "# Load data\n",
    "file_path = \"nycflood2024.csv\" \n",
    "df = pd.read_csv(file_path)\n",
    "\n",
    "# Rename columns\n",
    "df.columns = df.columns.str.lower().str.replace(\" \", \"_\")\n",
    "\n",
    "df.head()"
   ]
  },
  {
   "cell_type": "markdown",
   "id": "1cfd201e-6c3f-42ab-97c8-ce3ec8bdb033",
   "metadata": {},
   "source": [
    "## Summarize the missing information. Are there variables that are close to completely missing?"
   ]
  },
  {
   "cell_type": "code",
   "execution_count": 2,
   "id": "6609e9b2-20a0-47e1-b053-879429a8d4aa",
   "metadata": {},
   "outputs": [
    {
     "data": {
      "image/png": "[encoded data removed]"
     },
     "metadata": {
      "image/png": {
       "height": 480,
       "width": 640
      }
     },
     "output_type": "display_data"
    }
   ],
   "source": [
    "# Check for missing values\n",
    "missing_summary = df.isnull().sum()\n",
    "\n",
    "from plotnine import ggplot, aes, geom_bar, theme_minimal, coord_flip, labs, geom_boxplot\n",
    "import pandas as pd\n",
    "\n",
    "# Check missing values\n",
    "missing_summary = df.isnull().sum().reset_index()\n",
    "missing_summary.columns = [\"Column\", \"Missing_Count\"]\n",
    "missing_summary = missing_summary[missing_summary[\"Missing_Count\"] > 0]\n",
    "missing_summary = missing_summary.sort_values(by=\"Missing_Count\", ascending=False)\n",
    "\n",
    "# Create a bar plot\n",
    "missing_plot = (\n",
    "    ggplot(missing_summary, aes(x=\"Column\", y=\"Missing_Count\"))\n",
    "    + geom_bar(stat=\"identity\", fill=\"red\", alpha=0.7)\n",
    "    + coord_flip()  # Flip for better readability\n",
    "    + theme_minimal()\n",
    "    + labs(title=\"Missing Values by Column\", x=\"Column Name\", y=\"Count of Missing Values\")\n",
    ")\n",
    "\n",
    "missing_plot"
   ]
  },
  {
   "cell_type": "code",
   "execution_count": 3,
   "id": "37892ba5-dfcd-479c-86a6-f47c33ba595f",
   "metadata": {},
   "outputs": [
    {
     "data": {
      "text/plain": [
       "location_type               9483\n",
       "landmark                    9483\n",
       "facility_type               9483\n",
       "due_date                    9483\n",
       "vehicle_type                9483\n",
       "taxi_company_borough        9483\n",
       "taxi_pick_up_location       9483\n",
       "bridge_highway_name         9483\n",
       "bridge_highway_direction    9483\n",
       "road_ramp                   9483\n",
       "bridge_highway_segment      9483\n",
       "dtype: int64"
      ]
     },
     "execution_count": 3,
     "metadata": {},
     "output_type": "execute_result"
    }
   ],
   "source": [
    "missing_summary = df.isnull().sum()\n",
    "\n",
    "# Find columns with missing values over 80%\n",
    "high_missing = missing_summary[missing_summary / len(df) > 0.8]\n",
    "\n",
    "high_missing"
   ]
  },
  {
   "cell_type": "markdown",
   "id": "f356b797-31e7-4292-9ca1-8b6ccfca2db6",
   "metadata": {},
   "source": [
    "## Are there redundant information in the data? Try storing the data using the Arrow format and comment on the efficiency gain."
   ]
  },
  {
   "cell_type": "code",
   "execution_count": 4,
   "id": "c77ca89c-ad3e-4c8c-9206-5ffc00ef2b74",
   "metadata": {},
   "outputs": [
    {
     "data": {
      "text/plain": [
       "Index(['unique_key', 'created_date', 'closed_date', 'agency', 'complaint_type',\n",
       "       'descriptor', 'location_type', 'incident_zip', 'incident_address',\n",
       "       'cross_street_1', 'cross_street_2', 'intersection_street_1',\n",
       "       'intersection_street_2', 'address_type', 'city', 'landmark',\n",
       "       'facility_type', 'status', 'due_date', 'resolution_description',\n",
       "       'resolution_action_updated_date', 'community_board', 'bbl', 'borough',\n",
       "       'x_coordinate_(state_plane)', 'y_coordinate_(state_plane)',\n",
       "       'open_data_channel_type', 'park_facility_name', 'vehicle_type',\n",
       "       'taxi_company_borough', 'taxi_pick_up_location', 'bridge_highway_name',\n",
       "       'bridge_highway_direction', 'road_ramp', 'bridge_highway_segment',\n",
       "       'latitude', 'longitude'],\n",
       "      dtype='object')"
      ]
     },
     "execution_count": 4,
     "metadata": {},
     "output_type": "execute_result"
    }
   ],
   "source": [
    "# Drop redundant location column since we have longitude and latitude\n",
    "df = df.drop(columns=['location'])\n",
    "\n",
    "# Drop redundant location column since we address\n",
    "df = df.drop(columns=['street_name'])\n",
    "\n",
    "# Drop redundant location column since we have agency\n",
    "df = df.drop(columns=['agency_name'])\n",
    "\n",
    "# Drop redundant location column since we have borough\n",
    "df = df.drop(columns=['park_borough'])\n",
    "\n",
    "df.columns"
   ]
  },
  {
   "cell_type": "code",
   "execution_count": 5,
   "id": "e3ea2e3c-6f13-4873-a9cf-d1a2fcec68f9",
   "metadata": {},
   "outputs": [
    {
     "name": "stdout",
     "output_type": "stream",
     "text": [
      "CSV file size: 5962.98 KB\n",
      "Feather file size: 1465.19 KB\n",
      "Compression Efficiency Gain: 75.43%\n"
     ]
    }
   ],
   "source": [
    "import pyarrow.feather as feather\n",
    "import os\n",
    "\n",
    "# Save dataset in Feather format\n",
    "feather_file = \"nycflood2024.feather\"\n",
    "df.to_feather(feather_file)\n",
    "\n",
    "# Compare file sizes\n",
    "csv_size = os.path.getsize(file_path)\n",
    "feather_size = os.path.getsize(feather_file)\n",
    "compression_gain = (1 - feather_size / csv_size) * 100\n",
    "\n",
    "print(f\"CSV file size: {csv_size / 1024:.2f} KB\")\n",
    "print(f\"Feather file size: {feather_size / 1024:.2f} KB\")\n",
    "print(f\"Compression Efficiency Gain: {compression_gain:.2f}%\")"
   ]
  },
  {
   "cell_type": "markdown",
   "id": "53559c08-1630-42a7-b2c1-5d807a88f698",
   "metadata": {},
   "source": [
    "## Are there invalid NYC zipcode or borough? Can some of the missing values be filled? Fill them if yes."
   ]
  },
  {
   "cell_type": "code",
   "execution_count": 6,
   "id": "b65b9766-79a2-4d02-84b6-f75445b2025c",
   "metadata": {},
   "outputs": [
    {
     "name": "stdout",
     "output_type": "stream",
     "text": [
      "Missing Zip & Borough Together: 0\n",
      "Total Missing Zip Codes: 4\n",
      "Total Missing Boroughs: 0\n"
     ]
    }
   ],
   "source": [
    "import numpy as np\n",
    "from geopy.geocoders import Nominatim\n",
    "import time\n",
    "\n",
    "# Check co-occurring missing values\n",
    "missing_cooccur = df[['incident_zip', 'borough']].isnull().all(axis=1).sum()\n",
    "total_missing_zip_code = df['incident_zip'].isnull().sum()\n",
    "total_missing_borough = df['borough'].isnull().sum()\n",
    "\n",
    "print(\"Missing Zip & Borough Together:\", missing_cooccur)\n",
    "print(\"Total Missing Zip Codes:\", total_missing_zip_code)\n",
    "print(\"Total Missing Boroughs:\", total_missing_borough)"
   ]
  },
  {
   "cell_type": "code",
   "execution_count": 7,
   "id": "6900c116-462e-4604-9d87-2c366154ecf3",
   "metadata": {},
   "outputs": [
    {
     "data": {
      "text/html": [
       "<div>\n",
       "<style scoped>\n",
       "    .dataframe tbody tr th:only-of-type {\n",
       "        vertical-align: middle;\n",
       "    }\n",
       "\n",
       "    .dataframe tbody tr th {\n",
       "        vertical-align: top;\n",
       "    }\n",
       "\n",
       "    .dataframe thead th {\n",
       "        text-align: right;\n",
       "    }\n",
       "</style>\n",
       "<table border=\"1\" class=\"dataframe\">\n",
       "  <thead>\n",
       "    <tr style=\"text-align: right;\">\n",
       "      <th></th>\n",
       "      <th>incident_zip</th>\n",
       "      <th>borough</th>\n",
       "    </tr>\n",
       "  </thead>\n",
       "  <tbody>\n",
       "    <tr>\n",
       "      <th>58</th>\n",
       "      <td>NaN</td>\n",
       "      <td>QUEENS</td>\n",
       "    </tr>\n",
       "    <tr>\n",
       "      <th>189</th>\n",
       "      <td>NaN</td>\n",
       "      <td>MANHATTAN</td>\n",
       "    </tr>\n",
       "    <tr>\n",
       "      <th>1903</th>\n",
       "      <td>NaN</td>\n",
       "      <td>MANHATTAN</td>\n",
       "    </tr>\n",
       "    <tr>\n",
       "      <th>6333</th>\n",
       "      <td>NaN</td>\n",
       "      <td>QUEENS</td>\n",
       "    </tr>\n",
       "  </tbody>\n",
       "</table>\n",
       "</div>"
      ],
      "text/plain": [
       "      incident_zip    borough\n",
       "58             NaN     QUEENS\n",
       "189            NaN  MANHATTAN\n",
       "1903           NaN  MANHATTAN\n",
       "6333           NaN     QUEENS"
      ]
     },
     "execution_count": 7,
     "metadata": {},
     "output_type": "execute_result"
    }
   ],
   "source": [
    "# Filter rows where zip_code (incident_zip) is missing but borough is present\n",
    "missing_zip_present_borough = df[df['incident_zip'].isna() & df['borough'].notna()][['incident_zip', 'borough']]\n",
    "\n",
    "# Display the first few rows\n",
    "missing_zip_present_borough\n"
   ]
  },
  {
   "cell_type": "markdown",
   "id": "9fce0b4d-434f-4c6c-b697-e984eff676b5",
   "metadata": {},
   "source": [
    "Since these four columns that have missing zip code also have missing longitude and latitude, they cannot be filled using geocoders. Borough is not missing, however, there are several zip codes pertaining to each borough so we are unable to tell which zip code the incident belongs to. I filled the zip code with the most common zip from incidents with the same borough:"
   ]
  },
  {
   "cell_type": "code",
   "execution_count": 8,
   "id": "9006f36d-0d9b-4706-8be2-eaf4f8df82dc",
   "metadata": {},
   "outputs": [
    {
     "name": "stdout",
     "output_type": "stream",
     "text": [
      "Missing zip codes AFTER fill: 0\n"
     ]
    }
   ],
   "source": [
    "# Most common Zip in each borough\n",
    "most_common_zip_by_borough = df.groupby('borough')['incident_zip'].agg(lambda x: x.mode()[0] if not x.mode().empty else None)\n",
    "\n",
    "# Fill missing with most common borough zip\n",
    "missing_zip = df['incident_zip'].isna() & df['borough'].notna()\n",
    "df.loc[missing_zip, 'incident_zip'] = df.loc[missing_zip, 'borough'].map(most_common_zip_by_borough)\n",
    "\n",
    "# Check how many still missing\n",
    "missing_after = df['incident_zip'].isna().sum()\n",
    "print(\"Missing zip codes AFTER fill:\", missing_after)\n"
   ]
  },
  {
   "cell_type": "markdown",
   "id": "045d2485-ba8c-48f2-9c90-25e3a62cecc4",
   "metadata": {},
   "source": [
    "## Are there date errors? Examples are earlier closed_date than created_date; closed_date and created_date matching to the second; dates exactly at midnight or noon to the second."
   ]
  },
  {
   "cell_type": "code",
   "execution_count": 9,
   "id": "5d33af4f-da47-4c51-ab2f-d9ed40b5e0bf",
   "metadata": {},
   "outputs": [
    {
     "name": "stderr",
     "output_type": "stream",
     "text": [
      "/var/folders/h3/b6hmdmrj4_s50l70g177sf680000gn/T/ipykernel_38646/842059704.py:1: UserWarning: Could not infer format, so each element will be parsed individually, falling back to `dateutil`. To ensure parsing is consistent and as-expected, please specify a format.\n"
     ]
    },
    {
     "name": "stdout",
     "output_type": "stream",
     "text": [
      "         created_date         closed_date\n",
      "0 2024-12-31 23:05:00 2025-01-01 05:55:00\n",
      "1 2024-12-31 23:02:00 2025-01-01 10:30:00\n",
      "2 2024-12-31 23:02:00 2025-01-01 06:20:00\n",
      "3 2024-12-31 22:35:00 2025-01-01 11:20:00\n",
      "4 2024-12-31 22:11:00 2025-01-02 12:45:00\n",
      "5 2024-12-31 21:59:00 2025-01-01 09:45:00\n",
      "6 2024-12-31 19:26:00 2025-01-01 08:50:00\n",
      "7 2024-12-31 16:32:00 2025-01-01 09:10:00\n",
      "8 2024-12-31 14:08:00 2025-01-01 09:30:00\n",
      "9 2024-12-31 14:02:00 2025-01-01 08:15:00\n"
     ]
    }
   ],
   "source": [
    "df['created_date'] = pd.to_datetime(df['created_date'], errors='coerce')\n",
    "df['closed_date'] = pd.to_datetime(df['closed_date'], errors='coerce')\n",
    "\n",
    "# Check if it worked\n",
    "print(df[['created_date', 'closed_date']].head(10))"
   ]
  },
  {
   "cell_type": "code",
   "execution_count": 10,
   "id": "323602d9-7157-4842-93cf-5f6aa0a2ad5b",
   "metadata": {},
   "outputs": [
    {
     "data": {
      "text/plain": [
       "created_date    datetime64[ns]\n",
       "closed_date     datetime64[ns]\n",
       "dtype: object"
      ]
     },
     "execution_count": 10,
     "metadata": {},
     "output_type": "execute_result"
    }
   ],
   "source": [
    "df.dtypes[['created_date', 'closed_date']]"
   ]
  },
  {
   "cell_type": "code",
   "execution_count": 11,
   "id": "b9bcb9ba-3815-4a16-ab43-c2bb01c12f7a",
   "metadata": {},
   "outputs": [
    {
     "name": "stdout",
     "output_type": "stream",
     "text": [
      "Rows where closed_date is earlier than created_date: 1\n",
      "Rows where created_date == closed_date: 160\n",
      "Rows with created_date exactly at midnight or noon: 0\n",
      "Missing created_date: 0\n",
      "Missing closed_date: 208\n",
      "Cases open for more than a year: 0\n",
      "Rows with created_date before 2010: 0\n",
      "Rows with closed_date in the future: 0\n"
     ]
    }
   ],
   "source": [
    "# closed_date is earlier than created_date\n",
    "date_errors = df[df['closed_date'] < df['created_date']]\n",
    "print(f\"Rows where closed_date is earlier than created_date: {len(date_errors)}\")\n",
    "\n",
    "# closed_date and created_date match exactly\n",
    "same_second = df[df['created_date'] == df['closed_date']]\n",
    "print(f\"Rows where created_date == closed_date: {len(same_second)}\")\n",
    "\n",
    "# created_date is exactly at midnight or noon\n",
    "midnight_noon = df[df['created_date'].dt.strftime(\"%H:%M:%S\").isin([\"00:00:00\", \"12:00:00\"])]\n",
    "print(f\"Rows with created_date exactly at midnight or noon: {len(midnight_noon)}\")\n",
    "\n",
    "# missing created_date or closed_date\n",
    "missing_created = df['created_date'].isna().sum()\n",
    "missing_closed = df['closed_date'].isna().sum()\n",
    "print(f\"Missing created_date: {missing_created}\")\n",
    "print(f\"Missing closed_date: {missing_closed}\")\n",
    "\n",
    "# complaints open for an unusually long time (over a year)\n",
    "long_open_cases = df[(df['closed_date'].notna()) & ((df['closed_date'] - df['created_date']).dt.days > 365)]\n",
    "print(f\"Cases open for more than a year: {len(long_open_cases)}\")\n",
    "\n",
    "# cases where dates are too old or in future\n",
    "too_old = df[df['created_date'] < pd.Timestamp(\"2010-01-01\")]\n",
    "too_future = df[df['closed_date'] > pd.Timestamp.today()]\n",
    "print(f\"Rows with created_date before 2010: {len(too_old)}\")\n",
    "print(f\"Rows with closed_date in the future: {len(too_future)}\")"
   ]
  },
  {
   "cell_type": "markdown",
   "id": "f42036cb-2adc-48e1-8a69-0de23ad68ea6",
   "metadata": {},
   "source": [
    "## Summarize your suggestions to the data curator in several bullet points.\n",
    "\n",
    "* Remove redundant columns.\n",
    "    * Some columns like location, stree_name, park_borough, and agency_name are redundant of other columns and do not need to be included in the dataset. \n",
    "* Address missing or incorrect dates.\n",
    "    * Some rows include closed dates eariler than created dates.\n",
    "    * There are rows that have equal close and open dates and times - indicating an entry error/default.\n",
    "    * There are rows that have missing closed dates, meaning some may have been left open or not updated in teh database.\n",
    "* Store data more efficiently.\n",
    "    * The curator should consider storing the data in feather format for better performance and reduce the size of the file. "
   ]
  },
  {
   "cell_type": "markdown",
   "id": "3b546edb-fe5c-427a-bb0a-8de071d8e8bc",
   "metadata": {},
   "source": [
    "# Exploratory Analysis"
   ]
  },
  {
   "cell_type": "markdown",
   "id": "ec942303-0250-42b0-b5f7-cfb4235146e3",
   "metadata": {},
   "source": [
    "## Visualize the locations of complaints on a NYC map, with different symbols for different descriptors."
   ]
  },
  {
   "cell_type": "code",
   "execution_count": 12,
   "id": "7ab168db-17d6-43c3-ab0e-0dac0941b0c2",
   "metadata": {},
   "outputs": [
    {
     "data": {
      "text/plain": [
       "array(['street_flooding_(sj)',\n",
       "       'catch_basin_clogged/flooding_(use_comments)_(sc)'], dtype=object)"
      ]
     },
     "execution_count": 12,
     "metadata": {},
     "output_type": "execute_result"
    }
   ],
   "source": [
    "# Standardize the descriptor column\n",
    "df['descriptor'] = (\n",
    "    df['descriptor']\n",
    "    .astype(str)  # Ensure it's a string\n",
    "    .str.strip()  # Remove leading/trailing spaces\n",
    "    .str.lower()  # Convert to lowercase\n",
    "    .str.replace(r\"\\s+\", \"_\", regex=True)  # Replace spaces with underscores\n",
    ")\n",
    "\n",
    "df['descriptor'].unique()\n"
   ]
  },
  {
   "cell_type": "code",
   "execution_count": 13,
   "id": "d719af35-9dc5-40ac-8612-691e6aa5be08",
   "metadata": {},
   "outputs": [],
   "source": [
    "import folium\n",
    "from folium.plugins import MarkerCluster\n",
    "\n",
    "# Create map\n",
    "nyc_map = folium.Map(location=[40.7128, -74.0060], zoom_start=11)\n",
    "\n",
    "# Different markers\n",
    "descriptor_icons = {\n",
    "    'street_flooding_(sj)': \"tint\",\n",
    "    'catch_basin_clogged/flooding_(use_comments)_(sc)': \"exclamation-triangle\",\n",
    "}\n",
    "\n",
    "# Default icon\n",
    "default_icon = \"cloud\"\n",
    "\n",
    "df['descriptor'] = df['descriptor'].astype(str).str.strip().str.lower()\n",
    "\n",
    "# Create marker Cluster\n",
    "marker_cluster = MarkerCluster().add_to(nyc_map)\n",
    "\n",
    "# Plot locations\n",
    "for _, row in df.dropna(subset=['latitude', 'longitude']).iterrows():\n",
    "    descriptor = row['descriptor']\n",
    "    icon = descriptor_icons.get(descriptor, default_icon)\n",
    "    \n",
    "    folium.Marker(\n",
    "        location=[row['latitude'], row['longitude']],\n",
    "        popup=f\"{row['descriptor']} - {row['borough']}\",\n",
    "        icon=folium.Icon(icon=icon, prefix=\"fa\")\n",
    "    ).add_to(marker_cluster)\n",
    "\n",
    "nyc_map.save(\"nyc_complaints_map.html\")"
   ]
  },
  {
   "cell_type": "markdown",
   "id": "dd671ce7-8230-4d97-b8b2-85aceda53cf7",
   "metadata": {},
   "source": [
    "[View NYC Complaints Map](nyc_complaints_map.html)"
   ]
  },
  {
   "cell_type": "markdown",
   "id": "2e218551-ff47-48d3-b864-10551c6c1dec",
   "metadata": {},
   "source": [
    "## Create a variable response_time, which is the duration from created_date to closed_date."
   ]
  },
  {
   "cell_type": "code",
   "execution_count": 14,
   "id": "adc6d400-c2e5-49cb-a64d-ac90895a8ea6",
   "metadata": {},
   "outputs": [
    {
     "data": {
      "text/html": [
       "<div>\n",
       "<style scoped>\n",
       "    .dataframe tbody tr th:only-of-type {\n",
       "        vertical-align: middle;\n",
       "    }\n",
       "\n",
       "    .dataframe tbody tr th {\n",
       "        vertical-align: top;\n",
       "    }\n",
       "\n",
       "    .dataframe thead th {\n",
       "        text-align: right;\n",
       "    }\n",
       "</style>\n",
       "<table border=\"1\" class=\"dataframe\">\n",
       "  <thead>\n",
       "    <tr style=\"text-align: right;\">\n",
       "      <th></th>\n",
       "      <th>created_date</th>\n",
       "      <th>closed_date</th>\n",
       "    </tr>\n",
       "  </thead>\n",
       "  <tbody>\n",
       "    <tr>\n",
       "      <th>0</th>\n",
       "      <td>2024-12-31 23:05:00</td>\n",
       "      <td>2025-01-01 05:55:00</td>\n",
       "    </tr>\n",
       "    <tr>\n",
       "      <th>1</th>\n",
       "      <td>2024-12-31 23:02:00</td>\n",
       "      <td>2025-01-01 10:30:00</td>\n",
       "    </tr>\n",
       "    <tr>\n",
       "      <th>2</th>\n",
       "      <td>2024-12-31 23:02:00</td>\n",
       "      <td>2025-01-01 06:20:00</td>\n",
       "    </tr>\n",
       "    <tr>\n",
       "      <th>3</th>\n",
       "      <td>2024-12-31 22:35:00</td>\n",
       "      <td>2025-01-01 11:20:00</td>\n",
       "    </tr>\n",
       "    <tr>\n",
       "      <th>4</th>\n",
       "      <td>2024-12-31 22:11:00</td>\n",
       "      <td>2025-01-02 12:45:00</td>\n",
       "    </tr>\n",
       "    <tr>\n",
       "      <th>5</th>\n",
       "      <td>2024-12-31 21:59:00</td>\n",
       "      <td>2025-01-01 09:45:00</td>\n",
       "    </tr>\n",
       "    <tr>\n",
       "      <th>6</th>\n",
       "      <td>2024-12-31 19:26:00</td>\n",
       "      <td>2025-01-01 08:50:00</td>\n",
       "    </tr>\n",
       "    <tr>\n",
       "      <th>7</th>\n",
       "      <td>2024-12-31 16:32:00</td>\n",
       "      <td>2025-01-01 09:10:00</td>\n",
       "    </tr>\n",
       "    <tr>\n",
       "      <th>8</th>\n",
       "      <td>2024-12-31 14:08:00</td>\n",
       "      <td>2025-01-01 09:30:00</td>\n",
       "    </tr>\n",
       "    <tr>\n",
       "      <th>9</th>\n",
       "      <td>2024-12-31 14:02:00</td>\n",
       "      <td>2025-01-01 08:15:00</td>\n",
       "    </tr>\n",
       "  </tbody>\n",
       "</table>\n",
       "</div>"
      ],
      "text/plain": [
       "          created_date          closed_date\n",
       "0  2024-12-31 23:05:00  2025-01-01 05:55:00\n",
       "1  2024-12-31 23:02:00  2025-01-01 10:30:00\n",
       "2  2024-12-31 23:02:00  2025-01-01 06:20:00\n",
       "3  2024-12-31 22:35:00  2025-01-01 11:20:00\n",
       "4  2024-12-31 22:11:00  2025-01-02 12:45:00\n",
       "5  2024-12-31 21:59:00  2025-01-01 09:45:00\n",
       "6  2024-12-31 19:26:00  2025-01-01 08:50:00\n",
       "7  2024-12-31 16:32:00  2025-01-01 09:10:00\n",
       "8  2024-12-31 14:08:00  2025-01-01 09:30:00\n",
       "9  2024-12-31 14:02:00  2025-01-01 08:15:00"
      ]
     },
     "execution_count": 14,
     "metadata": {},
     "output_type": "execute_result"
    }
   ],
   "source": [
    "df[['created_date', 'closed_date']].astype(str).head(10)"
   ]
  },
  {
   "cell_type": "code",
   "execution_count": 15,
   "id": "840ee8ed-6693-45f3-8372-625ddf296df9",
   "metadata": {},
   "outputs": [
    {
     "data": {
      "text/plain": [
       "count    9274.000000\n",
       "mean        2.326430\n",
       "std         6.199547\n",
       "min         0.000000\n",
       "25%         0.230729\n",
       "50%         0.917361\n",
       "75%         2.752778\n",
       "max       281.846528\n",
       "Name: response_time, dtype: float64"
      ]
     },
     "execution_count": 15,
     "metadata": {},
     "output_type": "execute_result"
    }
   ],
   "source": [
    "# Response time in days\n",
    "df['response_time'] = (df['closed_date'] - df['created_date']).dt.total_seconds() / (60*60*24)\n",
    "\n",
    "# Remove negative\n",
    "df = df[df['response_time'] >= 0]\n",
    "\n",
    "# Summary statistics\n",
    "df['response_time'].describe()"
   ]
  },
  {
   "cell_type": "code",
   "execution_count": 16,
   "id": "ecb27bb4-0c02-4d92-9de9-0bae2ce779c8",
   "metadata": {},
   "outputs": [
    {
     "data": {
      "text/plain": [
       "0    0.284722\n",
       "1    0.477778\n",
       "2    0.304167\n",
       "3    0.531250\n",
       "4    1.606944\n",
       "Name: response_time, dtype: float64"
      ]
     },
     "execution_count": 16,
     "metadata": {},
     "output_type": "execute_result"
    }
   ],
   "source": [
    "df['response_time'].head()"
   ]
  },
  {
   "cell_type": "markdown",
   "id": "a95a7fce-6ce5-4d1a-bdb9-96288305130b",
   "metadata": {},
   "source": [
    "## Visualize the comparison of response time by complaint descriptor and borough. The original may not be the best given the long tail or outlers."
   ]
  },
  {
   "cell_type": "code",
   "execution_count": 17,
   "id": "ff0357a7-aebf-4863-9125-1dcd169b9159",
   "metadata": {},
   "outputs": [
    {
     "data": {
      "image/png": "[encoded data removed]"
     },
     "metadata": {
      "image/png": {
       "height": 480,
       "width": 640
      }
     },
     "output_type": "display_data"
    }
   ],
   "source": [
    "from plotnine import scale_y_log10\n",
    "\n",
    "# Remove NaN values and zero values\n",
    "df_filtered = df[df['response_time'].notna() & (df['response_time'] > 0)]\n",
    "\n",
    "# Remove extreme outliers\n",
    "response_time_cap = np.percentile(df_filtered['response_time'], 99)\n",
    "df_filtered = df_filtered[df_filtered['response_time'] <= response_time_cap]\n",
    "\n",
    "# Create the boxplot\n",
    "response_plot = (\n",
    "    ggplot(df_filtered, aes(x='descriptor', y='response_time', fill='borough')) +\n",
    "    geom_boxplot(outlier_shape='') +\n",
    "    scale_y_log10() +  # Use log scale to handle long tail\n",
    "    theme_minimal() +\n",
    "    labs(\n",
    "        title=\"Comparison of Response Time by Complaint Descriptor and Borough\",\n",
    "        x=\"Complaint Descriptor\",\n",
    "        y=\"Response Time (Log Scale, Days)\",\n",
    "        fill=\"Borough\"\n",
    "    )\n",
    ")\n",
    "\n",
    "response_plot"
   ]
  },
  {
   "cell_type": "markdown",
   "id": "ce755463-5b1e-410a-8d5c-63318a98d11b",
   "metadata": {},
   "source": [
    "## Is there significant difference in response time between SF and CB complaints? Across different boroughs? Does the difference between SF and CB depend on borough? State your hypothesis, justify your test, and summarize your results in plain English."
   ]
  },
  {
   "cell_type": "code",
   "execution_count": 18,
   "id": "f92f2d6c-519d-4821-9eb7-0251bf6daba2",
   "metadata": {},
   "outputs": [
    {
     "data": {
      "text/html": [
       "<div>\n",
       "<style scoped>\n",
       "    .dataframe tbody tr th:only-of-type {\n",
       "        vertical-align: middle;\n",
       "    }\n",
       "\n",
       "    .dataframe tbody tr th {\n",
       "        vertical-align: top;\n",
       "    }\n",
       "\n",
       "    .dataframe thead th {\n",
       "        text-align: right;\n",
       "    }\n",
       "</style>\n",
       "<table border=\"1\" class=\"dataframe\">\n",
       "  <thead>\n",
       "    <tr style=\"text-align: right;\">\n",
       "      <th></th>\n",
       "      <th>unique_key</th>\n",
       "      <th>created_date</th>\n",
       "      <th>closed_date</th>\n",
       "      <th>agency</th>\n",
       "      <th>complaint_type</th>\n",
       "      <th>descriptor</th>\n",
       "      <th>location_type</th>\n",
       "      <th>incident_zip</th>\n",
       "      <th>incident_address</th>\n",
       "      <th>cross_street_1</th>\n",
       "      <th>...</th>\n",
       "      <th>vehicle_type</th>\n",
       "      <th>taxi_company_borough</th>\n",
       "      <th>taxi_pick_up_location</th>\n",
       "      <th>bridge_highway_name</th>\n",
       "      <th>bridge_highway_direction</th>\n",
       "      <th>road_ramp</th>\n",
       "      <th>bridge_highway_segment</th>\n",
       "      <th>latitude</th>\n",
       "      <th>longitude</th>\n",
       "      <th>response_time</th>\n",
       "    </tr>\n",
       "  </thead>\n",
       "  <tbody>\n",
       "    <tr>\n",
       "      <th>0</th>\n",
       "      <td>63574884</td>\n",
       "      <td>2024-12-31 23:05:00</td>\n",
       "      <td>2025-01-01 05:55:00</td>\n",
       "      <td>DEP</td>\n",
       "      <td>Sewer</td>\n",
       "      <td>street_flooding_(sj)</td>\n",
       "      <td>NaN</td>\n",
       "      <td>11434.0</td>\n",
       "      <td>177-37 135 AVENUE</td>\n",
       "      <td>FARMERS BLVD</td>\n",
       "      <td>...</td>\n",
       "      <td>NaN</td>\n",
       "      <td>NaN</td>\n",
       "      <td>NaN</td>\n",
       "      <td>NaN</td>\n",
       "      <td>NaN</td>\n",
       "      <td>NaN</td>\n",
       "      <td>NaN</td>\n",
       "      <td>40.675681</td>\n",
       "      <td>-73.762969</td>\n",
       "      <td>0.284722</td>\n",
       "    </tr>\n",
       "    <tr>\n",
       "      <th>1</th>\n",
       "      <td>63580185</td>\n",
       "      <td>2024-12-31 23:02:00</td>\n",
       "      <td>2025-01-01 10:30:00</td>\n",
       "      <td>DEP</td>\n",
       "      <td>Sewer</td>\n",
       "      <td>street_flooding_(sj)</td>\n",
       "      <td>NaN</td>\n",
       "      <td>11219.0</td>\n",
       "      <td>4102 14 AVENUE</td>\n",
       "      <td>41 ST</td>\n",
       "      <td>...</td>\n",
       "      <td>NaN</td>\n",
       "      <td>NaN</td>\n",
       "      <td>NaN</td>\n",
       "      <td>NaN</td>\n",
       "      <td>NaN</td>\n",
       "      <td>NaN</td>\n",
       "      <td>NaN</td>\n",
       "      <td>40.638098</td>\n",
       "      <td>-73.985346</td>\n",
       "      <td>0.477778</td>\n",
       "    </tr>\n",
       "    <tr>\n",
       "      <th>2</th>\n",
       "      <td>63573084</td>\n",
       "      <td>2024-12-31 23:02:00</td>\n",
       "      <td>2025-01-01 06:20:00</td>\n",
       "      <td>DEP</td>\n",
       "      <td>Sewer</td>\n",
       "      <td>street_flooding_(sj)</td>\n",
       "      <td>NaN</td>\n",
       "      <td>11361.0</td>\n",
       "      <td>35-34 CORPORAL KENNEDY STREET</td>\n",
       "      <td>35 AVE</td>\n",
       "      <td>...</td>\n",
       "      <td>NaN</td>\n",
       "      <td>NaN</td>\n",
       "      <td>NaN</td>\n",
       "      <td>NaN</td>\n",
       "      <td>NaN</td>\n",
       "      <td>NaN</td>\n",
       "      <td>NaN</td>\n",
       "      <td>40.767455</td>\n",
       "      <td>-73.778079</td>\n",
       "      <td>0.304167</td>\n",
       "    </tr>\n",
       "    <tr>\n",
       "      <th>3</th>\n",
       "      <td>63581809</td>\n",
       "      <td>2024-12-31 22:35:00</td>\n",
       "      <td>2025-01-01 11:20:00</td>\n",
       "      <td>DEP</td>\n",
       "      <td>Sewer</td>\n",
       "      <td>street_flooding_(sj)</td>\n",
       "      <td>NaN</td>\n",
       "      <td>11219.0</td>\n",
       "      <td>NaN</td>\n",
       "      <td>NaN</td>\n",
       "      <td>...</td>\n",
       "      <td>NaN</td>\n",
       "      <td>NaN</td>\n",
       "      <td>NaN</td>\n",
       "      <td>NaN</td>\n",
       "      <td>NaN</td>\n",
       "      <td>NaN</td>\n",
       "      <td>NaN</td>\n",
       "      <td>40.636495</td>\n",
       "      <td>-73.987000</td>\n",
       "      <td>0.531250</td>\n",
       "    </tr>\n",
       "    <tr>\n",
       "      <th>7</th>\n",
       "      <td>63578409</td>\n",
       "      <td>2024-12-31 16:32:00</td>\n",
       "      <td>2025-01-01 09:10:00</td>\n",
       "      <td>DEP</td>\n",
       "      <td>Sewer</td>\n",
       "      <td>street_flooding_(sj)</td>\n",
       "      <td>NaN</td>\n",
       "      <td>11377.0</td>\n",
       "      <td>41-40 72 STREET</td>\n",
       "      <td>41 AVE</td>\n",
       "      <td>...</td>\n",
       "      <td>NaN</td>\n",
       "      <td>NaN</td>\n",
       "      <td>NaN</td>\n",
       "      <td>NaN</td>\n",
       "      <td>NaN</td>\n",
       "      <td>NaN</td>\n",
       "      <td>NaN</td>\n",
       "      <td>40.743976</td>\n",
       "      <td>-73.893316</td>\n",
       "      <td>0.693056</td>\n",
       "    </tr>\n",
       "  </tbody>\n",
       "</table>\n",
       "<p>5 rows × 38 columns</p>\n",
       "</div>"
      ],
      "text/plain": [
       "   unique_key        created_date         closed_date agency complaint_type  \\\n",
       "0    63574884 2024-12-31 23:05:00 2025-01-01 05:55:00    DEP          Sewer   \n",
       "1    63580185 2024-12-31 23:02:00 2025-01-01 10:30:00    DEP          Sewer   \n",
       "2    63573084 2024-12-31 23:02:00 2025-01-01 06:20:00    DEP          Sewer   \n",
       "3    63581809 2024-12-31 22:35:00 2025-01-01 11:20:00    DEP          Sewer   \n",
       "7    63578409 2024-12-31 16:32:00 2025-01-01 09:10:00    DEP          Sewer   \n",
       "\n",
       "             descriptor  location_type  incident_zip  \\\n",
       "0  street_flooding_(sj)            NaN       11434.0   \n",
       "1  street_flooding_(sj)            NaN       11219.0   \n",
       "2  street_flooding_(sj)            NaN       11361.0   \n",
       "3  street_flooding_(sj)            NaN       11219.0   \n",
       "7  street_flooding_(sj)            NaN       11377.0   \n",
       "\n",
       "                incident_address cross_street_1  ... vehicle_type  \\\n",
       "0              177-37 135 AVENUE   FARMERS BLVD  ...          NaN   \n",
       "1                 4102 14 AVENUE          41 ST  ...          NaN   \n",
       "2  35-34 CORPORAL KENNEDY STREET         35 AVE  ...          NaN   \n",
       "3                            NaN            NaN  ...          NaN   \n",
       "7                41-40 72 STREET         41 AVE  ...          NaN   \n",
       "\n",
       "  taxi_company_borough taxi_pick_up_location bridge_highway_name  \\\n",
       "0                  NaN                   NaN                 NaN   \n",
       "1                  NaN                   NaN                 NaN   \n",
       "2                  NaN                   NaN                 NaN   \n",
       "3                  NaN                   NaN                 NaN   \n",
       "7                  NaN                   NaN                 NaN   \n",
       "\n",
       "  bridge_highway_direction  road_ramp  bridge_highway_segment   latitude  \\\n",
       "0                      NaN        NaN                     NaN  40.675681   \n",
       "1                      NaN        NaN                     NaN  40.638098   \n",
       "2                      NaN        NaN                     NaN  40.767455   \n",
       "3                      NaN        NaN                     NaN  40.636495   \n",
       "7                      NaN        NaN                     NaN  40.743976   \n",
       "\n",
       "   longitude response_time  \n",
       "0 -73.762969      0.284722  \n",
       "1 -73.985346      0.477778  \n",
       "2 -73.778079      0.304167  \n",
       "3 -73.987000      0.531250  \n",
       "7 -73.893316      0.693056  \n",
       "\n",
       "[5 rows x 38 columns]"
      ]
     },
     "execution_count": 18,
     "metadata": {},
     "output_type": "execute_result"
    }
   ],
   "source": [
    "# Extract SF and CB complaints\n",
    "sf_complaints = df[df['descriptor'].str.contains('street_flooding', case=False, na=False)]\n",
    "cb_complaints = df[df['descriptor'].str.contains('catch_basin', case=False, na=False)]\n",
    "sf_complaints.head()"
   ]
  },
  {
   "cell_type": "markdown",
   "id": "ef802805-9fa4-430b-954d-b20ff4cad1a4",
   "metadata": {},
   "source": [
    "### Check if response_times is normally distributed"
   ]
  },
  {
   "cell_type": "code",
   "execution_count": 19,
   "id": "8720cf3a-3d6f-41aa-9ccd-0a66bd69b005",
   "metadata": {},
   "outputs": [
    {
     "name": "stdout",
     "output_type": "stream",
     "text": [
      "Shapiro-Wilk Test p-value: 0.00000\n",
      "Conclusion: Response times are NOT normally distributed (p < 0.05).\n"
     ]
    }
   ],
   "source": [
    "from scipy.stats import shapiro\n",
    "\n",
    "# Drop NaN values in response_time\n",
    "response_times = df['response_time'].dropna()\n",
    "\n",
    "# Shapiro-Wilk test (best for small samples, <5000 observations)\n",
    "shapiro_p = shapiro(response_times.sample(min(len(response_times), 5000)))[1] if len(response_times) > 3 else 1\n",
    "\n",
    "# Print results\n",
    "print(f\"Shapiro-Wilk Test p-value: {shapiro_p:.5f}\")\n",
    "\n",
    "# Interpretation: If p-value < 0.05, reject normality assumption\n",
    "if shapiro_p < 0.05:\n",
    "    print(\"Conclusion: Response times are NOT normally distributed (p < 0.05).\")\n",
    "else:\n",
    "    print(\"Conclusion: Response times appear to be normally distributed (p >= 0.05).\")\n"
   ]
  },
  {
   "cell_type": "markdown",
   "id": "a87015e5-b66b-45ec-8329-7c86a2ca8c7d",
   "metadata": {},
   "source": [
    "### Use Wilcoxon rank-sum test for two independent samples\n",
    "This test is appropriate because response times are not normally distributed. SF and CB are two independent samples. \n",
    "\n",
    "H: (Null Hypothesis): There is no significant difference in response times between Street Flooding (SF) and Catch Basin (CB) complaints.\n",
    "\n",
    "Ho: (Alternative Hypothesis): There is a significant difference in response times between SF and CB complaints."
   ]
  },
  {
   "cell_type": "code",
   "execution_count": 20,
   "id": "be9f2912-eb15-4150-86bd-4321632317ff",
   "metadata": {},
   "outputs": [
    {
     "name": "stdout",
     "output_type": "stream",
     "text": [
      "Test Used: Wilcoxon Rank-Sum Test (ranksums)\n",
      "P-value: 0.00000\n",
      "Significant Difference? Yes\n"
     ]
    }
   ],
   "source": [
    "from scipy.stats import ranksums\n",
    "\n",
    "# Drop Nas\n",
    "sf_times = sf_complaints['response_time'].dropna()\n",
    "cb_times = cb_complaints['response_time'].dropna()\n",
    "\n",
    "# Perform Wilcoxon Rank-Sum test\n",
    "stat, p_value = ranksums(sf_times, cb_times)\n",
    "\n",
    "# Print results\n",
    "print(f\"Test Used: Wilcoxon Rank-Sum Test (ranksums)\")\n",
    "print(f\"P-value: {p_value:.5f}\")\n",
    "print(f\"Significant Difference? {'Yes' if p_value < 0.05 else 'No'}\")"
   ]
  },
  {
   "cell_type": "markdown",
   "id": "5c40389e-fa18-4d05-8561-affaed256221",
   "metadata": {},
   "source": [
    "Since the p-value is less than 0.05, we reject the null hypothesis. This means that response times for SF and CB complaints are significantly different. This means the type of complaint has a significant impact on how long it takes for a request to be resolved. "
   ]
  },
  {
   "cell_type": "markdown",
   "id": "00d8de3d-9693-4dbd-b65f-e9fa0ea10812",
   "metadata": {},
   "source": [
    "### Use Kruskal-Wallis H-test to test across different boroughs\n",
    "This test is appropriate because response times are not normally distributed. SF and CB are independent samples. Use Kruskal-Wallis to compare locations.\n",
    "\n",
    "Ho: There is no significant difference in response times across different boroughs.\n",
    "\n",
    "H1: There is a significant difference in response times between at least one pair of boroughs."
   ]
  },
  {
   "cell_type": "code",
   "execution_count": 21,
   "id": "1ab70b6d-4e22-4355-8a5f-80f1dcf0955d",
   "metadata": {},
   "outputs": [
    {
     "name": "stdout",
     "output_type": "stream",
     "text": [
      "\n",
      "Test Used: Kruskal-Wallis H-test Across Boroughs\n",
      "P-value: 0.00000\n",
      "Significant Difference? Yes\n"
     ]
    }
   ],
   "source": [
    "from scipy.stats import kruskal\n",
    "\n",
    "# Perform Kruskal-Wallis H-test across different boroughs\n",
    "borough_groups = [df[df['borough'] == borough]['response_time'].dropna() for borough in df['borough'].dropna().unique() if len(df[df['borough'] == borough]['response_time'].dropna()) > 3]\n",
    "\n",
    "# Only run Kruskal-Wallis if multiple boroughs have sufficient data\n",
    "if len(borough_groups) > 1:\n",
    "    stat_kruskal, p_value_kruskal = kruskal(*borough_groups)\n",
    "    print(f\"\\nTest Used: Kruskal-Wallis H-test Across Boroughs\")\n",
    "    print(f\"P-value: {p_value_kruskal:.5f}\")\n",
    "    print(f\"Significant Difference? {'Yes' if p_value_kruskal < 0.05 else 'No'}\")\n",
    "else:\n",
    "    print(\"\\nNot enough valid boroughs to perform Kruskal-Wallis test.\")"
   ]
  },
  {
   "cell_type": "markdown",
   "id": "7dfcc497-95a7-41d9-be74-16604a225cd0",
   "metadata": {},
   "source": [
    "Since the p-value is less than 0.05, we reject the null hypothesis. This means that response times differ significantly across boroughs. At least one borough has a significantly different response time compared to the others. This suggests that the borough where a complaint is made affects how long it takes to resolve."
   ]
  },
  {
   "cell_type": "markdown",
   "id": "51abdf9d-e9d3-460c-8b15-617b5db041d9",
   "metadata": {},
   "source": [
    "### Use Wilcoxon rank-sum test to test difference between SF and CB for each borough\n",
    "This test is appropriate because response times are not normally distributed. SF and CB are two independent samples.\n",
    "\n",
    "Ho: There is no significant difference in response times between SF and CB complaints within each borough.\n",
    "\n",
    "H1: There is a significant difference in response times between SF and CB complaints within each borough."
   ]
  },
  {
   "cell_type": "code",
   "execution_count": 22,
   "id": "dad0ec7b-b79d-4725-af84-37e940672186",
   "metadata": {},
   "outputs": [
    {
     "name": "stdout",
     "output_type": "stream",
     "text": [
      "\n",
      "Borough-wise Comparison of Response Times (SF vs. CB):\n",
      "QUEENS: Wilcoxon Rank-Sum Test - P-value: 0.00000 - Significant? Yes\n",
      "BROOKLYN: Wilcoxon Rank-Sum Test - P-value: 0.00000 - Significant? Yes\n",
      "STATEN ISLAND: Wilcoxon Rank-Sum Test - P-value: 0.00000 - Significant? Yes\n",
      "MANHATTAN: Wilcoxon Rank-Sum Test - P-value: 0.00000 - Significant? Yes\n",
      "BRONX: Wilcoxon Rank-Sum Test - P-value: 0.00000 - Significant? Yes\n"
     ]
    }
   ],
   "source": [
    "# Initialize dictionary to store borough-wise results\n",
    "borough_results = {}\n",
    "\n",
    "# Loop through each borough and compare SF vs. CB response times\n",
    "for borough in df['borough'].dropna().unique():\n",
    "    sf_b_times = df[(df['borough'] == borough) & df['descriptor'].str.contains('street_flooding', case=False, na=False)]['response_time'].dropna()\n",
    "    cb_b_times = df[(df['borough'] == borough) & df['descriptor'].str.contains('catch_basin', case=False, na=False)]['response_time'].dropna()\n",
    "\n",
    "    # Ensure there are enough samples for a meaningful test\n",
    "    if len(sf_b_times) > 3 and len(cb_b_times) > 3:\n",
    "        stat, p_borough = ranksums(sf_b_times, cb_b_times)\n",
    "        borough_results[borough] = {'Test': \"Wilcoxon Rank-Sum Test\", 'P-value': p_borough}\n",
    "\n",
    "# Display borough-wise results\n",
    "print(\"\\nBorough-wise Comparison of Response Times (SF vs. CB):\")\n",
    "for borough, result in borough_results.items():\n",
    "    print(f\"{borough}: {result['Test']} - P-value: {result['P-value']:.5f} - Significant? {'Yes' if result['P-value'] < 0.05 else 'No'}\")"
   ]
  },
  {
   "cell_type": "markdown",
   "id": "65a175a6-cfef-4703-a84d-5830770ce254",
   "metadata": {},
   "source": [
    "Since all p-values are less than 0.05, we reject the null hypothesis for every borough. This means that response times for Street Flooding and Catch Basin complaints differ significantly across all boroughs. The type of complaint descriptor has a significant impact on response time in every borough."
   ]
  },
  {
   "cell_type": "markdown",
   "id": "f7db1c8f-bfb8-4811-a393-5149bf3de135",
   "metadata": {},
   "source": [
    "#### Histrogram of response times for each borough"
   ]
  },
  {
   "cell_type": "code",
   "execution_count": 23,
   "id": "8f9379da-2e3d-40f0-a70c-56caac57533e",
   "metadata": {},
   "outputs": [
    {
     "name": "stderr",
     "output_type": "stream",
     "text": [
      "/Users/alyssahorn/5-nyc-data-exploration-alyssahorn/venv/lib/python3.12/site-packages/plotnine/layer.py:284: PlotnineWarning: stat_bin : Removed 50 rows containing non-finite values.\n",
      "/Users/alyssahorn/5-nyc-data-exploration-alyssahorn/venv/lib/python3.12/site-packages/plotnine/layer.py:364: PlotnineWarning: geom_histogram : Removed 14 rows containing missing values.\n"
     ]
    },
    {
     "data": {
      "image/png": "[encoded data removed]"
     },
     "metadata": {
      "image/png": {
       "height": 480,
       "width": 640
      }
     },
     "output_type": "display_data"
    }
   ],
   "source": [
    "from plotnine import ggplot, aes, geom_histogram, facet_wrap, theme_minimal, labs, scale_x_continuous, scale_y_continuous\n",
    "\n",
    "# Create histogram plot using plotnine with x-axis limited to 0-50 days and y-axis limited to 0-700\n",
    "histogram_plot = (\n",
    "    ggplot(df.dropna(subset=['response_time', 'borough']), aes(x='response_time', fill='borough')) +\n",
    "    geom_histogram(bins=30, alpha=0.7) +  # Adjust bin count as needed\n",
    "    facet_wrap('~borough') +  # Separate histograms for each borough\n",
    "    scale_x_continuous(limits=(0, 30)) +  # Limit x-axis to 0-50 days\n",
    "    scale_y_continuous(limits=(0, 600)) +  # Limit y-axis to 0-700\n",
    "    theme_minimal() +\n",
    "    labs(\n",
    "        title=\"Distribution of Response Times by Borough\",\n",
    "        x=\"Response Time (Days)\",\n",
    "        y=\"Count\",\n",
    "        fill=\"Borough\"\n",
    "    )\n",
    ")\n",
    "\n",
    "# Display the plot\n",
    "histogram_plot"
   ]
  },
  {
   "cell_type": "markdown",
   "id": "94cc4b4d-934e-4490-a0c9-1c592e65045a",
   "metadata": {},
   "source": [
    "## Create a binary variable over3d to indicate that a service request took three days or longer to close"
   ]
  },
  {
   "cell_type": "code",
   "execution_count": 24,
   "id": "e4ad5099-7c8b-4885-83be-221f946a3ebe",
   "metadata": {},
   "outputs": [
    {
     "data": {
      "text/html": [
       "<div>\n",
       "<style scoped>\n",
       "    .dataframe tbody tr th:only-of-type {\n",
       "        vertical-align: middle;\n",
       "    }\n",
       "\n",
       "    .dataframe tbody tr th {\n",
       "        vertical-align: top;\n",
       "    }\n",
       "\n",
       "    .dataframe thead th {\n",
       "        text-align: right;\n",
       "    }\n",
       "</style>\n",
       "<table border=\"1\" class=\"dataframe\">\n",
       "  <thead>\n",
       "    <tr style=\"text-align: right;\">\n",
       "      <th></th>\n",
       "      <th>response_time</th>\n",
       "      <th>over3d</th>\n",
       "    </tr>\n",
       "  </thead>\n",
       "  <tbody>\n",
       "    <tr>\n",
       "      <th>0</th>\n",
       "      <td>0.284722</td>\n",
       "      <td>0</td>\n",
       "    </tr>\n",
       "    <tr>\n",
       "      <th>1</th>\n",
       "      <td>0.477778</td>\n",
       "      <td>0</td>\n",
       "    </tr>\n",
       "    <tr>\n",
       "      <th>2</th>\n",
       "      <td>0.304167</td>\n",
       "      <td>0</td>\n",
       "    </tr>\n",
       "    <tr>\n",
       "      <th>3</th>\n",
       "      <td>0.531250</td>\n",
       "      <td>0</td>\n",
       "    </tr>\n",
       "    <tr>\n",
       "      <th>4</th>\n",
       "      <td>1.606944</td>\n",
       "      <td>0</td>\n",
       "    </tr>\n",
       "    <tr>\n",
       "      <th>5</th>\n",
       "      <td>0.490278</td>\n",
       "      <td>0</td>\n",
       "    </tr>\n",
       "    <tr>\n",
       "      <th>6</th>\n",
       "      <td>0.558333</td>\n",
       "      <td>0</td>\n",
       "    </tr>\n",
       "    <tr>\n",
       "      <th>7</th>\n",
       "      <td>0.693056</td>\n",
       "      <td>0</td>\n",
       "    </tr>\n",
       "    <tr>\n",
       "      <th>8</th>\n",
       "      <td>0.806944</td>\n",
       "      <td>0</td>\n",
       "    </tr>\n",
       "    <tr>\n",
       "      <th>9</th>\n",
       "      <td>0.759028</td>\n",
       "      <td>0</td>\n",
       "    </tr>\n",
       "  </tbody>\n",
       "</table>\n",
       "</div>"
      ],
      "text/plain": [
       "   response_time  over3d\n",
       "0       0.284722       0\n",
       "1       0.477778       0\n",
       "2       0.304167       0\n",
       "3       0.531250       0\n",
       "4       1.606944       0\n",
       "5       0.490278       0\n",
       "6       0.558333       0\n",
       "7       0.693056       0\n",
       "8       0.806944       0\n",
       "9       0.759028       0"
      ]
     },
     "execution_count": 24,
     "metadata": {},
     "output_type": "execute_result"
    }
   ],
   "source": [
    "df['over3d'] = (df['response_time'] >= 3).astype(int)\n",
    "\n",
    "df[['response_time', 'over3d']].head(10)"
   ]
  },
  {
   "cell_type": "code",
   "execution_count": 25,
   "id": "4d878d14-0fff-4796-a1d5-98a165a7f91e",
   "metadata": {},
   "outputs": [
    {
     "data": {
      "text/html": [
       "<div>\n",
       "<style scoped>\n",
       "    .dataframe tbody tr th:only-of-type {\n",
       "        vertical-align: middle;\n",
       "    }\n",
       "\n",
       "    .dataframe tbody tr th {\n",
       "        vertical-align: top;\n",
       "    }\n",
       "\n",
       "    .dataframe thead th {\n",
       "        text-align: right;\n",
       "    }\n",
       "</style>\n",
       "<table border=\"1\" class=\"dataframe\">\n",
       "  <thead>\n",
       "    <tr style=\"text-align: right;\">\n",
       "      <th></th>\n",
       "      <th>created_date</th>\n",
       "      <th>closed_date</th>\n",
       "      <th>response_time</th>\n",
       "      <th>over3d</th>\n",
       "    </tr>\n",
       "  </thead>\n",
       "  <tbody>\n",
       "    <tr>\n",
       "      <th>61</th>\n",
       "      <td>2024-12-28 22:44:00</td>\n",
       "      <td>2025-01-02 09:00:00</td>\n",
       "      <td>4.427778</td>\n",
       "      <td>1</td>\n",
       "    </tr>\n",
       "    <tr>\n",
       "      <th>93</th>\n",
       "      <td>2024-12-26 23:20:00</td>\n",
       "      <td>2024-12-30 03:35:00</td>\n",
       "      <td>3.177083</td>\n",
       "      <td>1</td>\n",
       "    </tr>\n",
       "    <tr>\n",
       "      <th>95</th>\n",
       "      <td>2024-12-26 19:23:00</td>\n",
       "      <td>2024-12-30 02:30:00</td>\n",
       "      <td>3.296528</td>\n",
       "      <td>1</td>\n",
       "    </tr>\n",
       "    <tr>\n",
       "      <th>96</th>\n",
       "      <td>2024-12-26 15:05:00</td>\n",
       "      <td>2025-01-03 10:40:00</td>\n",
       "      <td>7.815972</td>\n",
       "      <td>1</td>\n",
       "    </tr>\n",
       "    <tr>\n",
       "      <th>98</th>\n",
       "      <td>2024-12-26 12:41:00</td>\n",
       "      <td>2024-12-30 11:56:00</td>\n",
       "      <td>3.968750</td>\n",
       "      <td>1</td>\n",
       "    </tr>\n",
       "    <tr>\n",
       "      <th>100</th>\n",
       "      <td>2024-12-26 12:11:00</td>\n",
       "      <td>2024-12-30 13:30:00</td>\n",
       "      <td>4.054861</td>\n",
       "      <td>1</td>\n",
       "    </tr>\n",
       "    <tr>\n",
       "      <th>134</th>\n",
       "      <td>2024-12-21 15:50:00</td>\n",
       "      <td>2024-12-26 12:15:00</td>\n",
       "      <td>4.850694</td>\n",
       "      <td>1</td>\n",
       "    </tr>\n",
       "    <tr>\n",
       "      <th>135</th>\n",
       "      <td>2024-12-21 15:17:00</td>\n",
       "      <td>2024-12-26 13:35:00</td>\n",
       "      <td>4.929167</td>\n",
       "      <td>1</td>\n",
       "    </tr>\n",
       "    <tr>\n",
       "      <th>138</th>\n",
       "      <td>2024-12-21 09:38:00</td>\n",
       "      <td>2024-12-30 12:00:00</td>\n",
       "      <td>9.098611</td>\n",
       "      <td>1</td>\n",
       "    </tr>\n",
       "    <tr>\n",
       "      <th>141</th>\n",
       "      <td>2024-12-20 17:41:00</td>\n",
       "      <td>2024-12-24 18:20:00</td>\n",
       "      <td>4.027083</td>\n",
       "      <td>1</td>\n",
       "    </tr>\n",
       "  </tbody>\n",
       "</table>\n",
       "</div>"
      ],
      "text/plain": [
       "           created_date         closed_date  response_time  over3d\n",
       "61  2024-12-28 22:44:00 2025-01-02 09:00:00       4.427778       1\n",
       "93  2024-12-26 23:20:00 2024-12-30 03:35:00       3.177083       1\n",
       "95  2024-12-26 19:23:00 2024-12-30 02:30:00       3.296528       1\n",
       "96  2024-12-26 15:05:00 2025-01-03 10:40:00       7.815972       1\n",
       "98  2024-12-26 12:41:00 2024-12-30 11:56:00       3.968750       1\n",
       "100 2024-12-26 12:11:00 2024-12-30 13:30:00       4.054861       1\n",
       "134 2024-12-21 15:50:00 2024-12-26 12:15:00       4.850694       1\n",
       "135 2024-12-21 15:17:00 2024-12-26 13:35:00       4.929167       1\n",
       "138 2024-12-21 09:38:00 2024-12-30 12:00:00       9.098611       1\n",
       "141 2024-12-20 17:41:00 2024-12-24 18:20:00       4.027083       1"
      ]
     },
     "execution_count": 25,
     "metadata": {},
     "output_type": "execute_result"
    }
   ],
   "source": [
    "df_over3d = df[df['over3d'] == 1]\n",
    "\n",
    "# Show relevant columns\n",
    "df_over3d[['created_date', 'closed_date', 'response_time', 'over3d']].head(10)"
   ]
  },
  {
   "cell_type": "markdown",
   "id": "5b74b1b3-0f6b-4252-a87c-bf4f3b382aef",
   "metadata": {},
   "source": [
    "## Does over3d depend on the complaint descriptor, borough, or weekday (vs weekend/holiday)? State your hypotheses, justify your test, and summarize your results.\n",
    "\n",
    "Chi-squared test is appropriate because it evaluates whether there is an association between categorical variables. In this case, it creates a frequency table evaluating whether there is an association between these over3d and complaint descriptor, borough, and weekday.\n",
    "\n",
    "Ho: The likelihood of the service request taking over 3 days is independent of the complaint descriptor, borough, and weekday\n",
    "\n",
    "H1: The likelihood of a service request taking 3+ days (over3d) depends on one or more of these factors"
   ]
  },
  {
   "cell_type": "code",
   "execution_count": 26,
   "id": "b8aaa2fc-3a6e-4400-bac7-e5f401001f12",
   "metadata": {},
   "outputs": [
    {
     "name": "stdout",
     "output_type": "stream",
     "text": [
      "Descriptor vs. Over3d: p-value = 0.00000 - Significant? Yes\n",
      "Borough vs. Over3d: p-value = 0.00000 - Significant? Yes\n",
      "Weekday/Weekend vs. Over3d: p-value = 0.00001 - Significant? Yes\n"
     ]
    }
   ],
   "source": [
    "from scipy.stats import chi2_contingency\n",
    "\n",
    "# Create a new variable for weekday vs. weekend/holiday\n",
    "df['created_weekday'] = df['created_date'].dt.weekday  # Monday=0, Sunday=6\n",
    "df['weekend_holiday'] = df['created_weekday'].apply(lambda x: 1 if x >= 5 else 0)  # 1 = Weekend, 0 = Weekday\n",
    "\n",
    "# Function to perform chi-square test\n",
    "def chi_square_test(cat_var):\n",
    "    contingency_table = pd.crosstab(df[cat_var], df['over3d'])\n",
    "    stat, p, dof, expected = chi2_contingency(contingency_table)\n",
    "    return p\n",
    "\n",
    "# Perform chi-square tests\n",
    "p_descriptor = chi_square_test('descriptor')\n",
    "p_borough = chi_square_test('borough')\n",
    "p_weekend = chi_square_test('weekend_holiday')\n",
    "\n",
    "# Display results\n",
    "results = {\n",
    "    \"Descriptor vs. Over3d\": p_descriptor,\n",
    "    \"Borough vs. Over3d\": p_borough,\n",
    "    \"Weekday/Weekend vs. Over3d\": p_weekend\n",
    "}\n",
    "\n",
    "for test, p_value in results.items():\n",
    "    print(f\"{test}: p-value = {p_value:.5f} - Significant? {'Yes' if p_value < 0.05 else 'No'}\")\n"
   ]
  },
  {
   "cell_type": "markdown",
   "id": "01f225fc-e0f2-4e6e-b26d-0186a9be013b",
   "metadata": {},
   "source": [
    "Since all p-values are less than 0.05, we reject the null hypothesis and conclude that all three factors significantly impact service request response times\n",
    "\n",
    "* Complaint Descriptor: SF and CB have significantly different response times.\n",
    "* Borough: The borough where the complaint was reported affects how long it takes to resolve.\n",
    "* Weekday vs. Weekend: Requests made on weekends or holidays are more likely to take over 3 days compared to weekdays.\n"
   ]
  },
  {
   "cell_type": "markdown",
   "id": "bdf0841f-982a-4bb8-894f-58493f0d8610",
   "metadata": {},
   "source": [
    "# Modeling the occurrence of overly long response time"
   ]
  },
  {
   "cell_type": "markdown",
   "id": "17e900ca-d991-478c-834d-15744ab0c80e",
   "metadata": {},
   "source": [
    "## Create a data set which contains the outcome variable over3d and variables that might be useful in predicting it. Consider including time-of-day effects (e.g., rush hour vs. late-night), seasonal trends, and neighborhood-level demographics. Zip code level information could be useful too, such as the zip code area and the ACS 2023 variables (data/nyc_zip_areas.feather and data/acs2023.feather)."
   ]
  },
  {
   "cell_type": "code",
   "execution_count": 27,
   "id": "685e9d60-ee56-41a2-beb8-25ade6f01780",
   "metadata": {},
   "outputs": [
    {
     "data": {
      "text/plain": [
       "['unique_key',\n",
       " 'created_date',\n",
       " 'closed_date',\n",
       " 'agency',\n",
       " 'complaint_type',\n",
       " 'descriptor',\n",
       " 'location_type',\n",
       " 'incident_zip',\n",
       " 'incident_address',\n",
       " 'cross_street_1',\n",
       " 'cross_street_2',\n",
       " 'intersection_street_1',\n",
       " 'intersection_street_2',\n",
       " 'address_type',\n",
       " 'city',\n",
       " 'landmark',\n",
       " 'facility_type',\n",
       " 'status',\n",
       " 'due_date',\n",
       " 'resolution_description',\n",
       " 'resolution_action_updated_date',\n",
       " 'community_board',\n",
       " 'bbl',\n",
       " 'borough',\n",
       " 'x_coordinate_(state_plane)',\n",
       " 'y_coordinate_(state_plane)',\n",
       " 'open_data_channel_type',\n",
       " 'park_facility_name',\n",
       " 'vehicle_type',\n",
       " 'taxi_company_borough',\n",
       " 'taxi_pick_up_location',\n",
       " 'bridge_highway_name',\n",
       " 'bridge_highway_direction',\n",
       " 'road_ramp',\n",
       " 'bridge_highway_segment',\n",
       " 'latitude',\n",
       " 'longitude',\n",
       " 'response_time',\n",
       " 'over3d',\n",
       " 'created_weekday',\n",
       " 'weekend_holiday']"
      ]
     },
     "execution_count": 27,
     "metadata": {},
     "output_type": "execute_result"
    }
   ],
   "source": [
    "# Load rainfall, acs, and zip data\n",
    "rainfall_df = pd.read_csv('rainfall_CP.csv')\n",
    "acs_df = pd.read_feather('acs2023.feather')\n",
    "zip_df = pd.read_feather('nyc_zip_areas.feather')\n",
    "\n",
    "# Standardize column names\n",
    "acs_df.columns = acs_df.columns.str.lower().str.replace(' ', '_')\n",
    "zip_df.columns = zip_df.columns.str.lower().str.replace(' ', '_')\n",
    "\n",
    "# Rename the columns to standardized names\n",
    "rainfall_df = rainfall_df.rename(columns={'date(M/D/Y)': 'date', 'time(H:M)': 'time', 'Value': 'rainfall'})\n",
    "\n",
    "# Convert 'date' to datetime\n",
    "rainfall_df['date'] = pd.to_datetime(rainfall_df['date'])\n",
    "\n",
    "df.columns.tolist()"
   ]
  },
  {
   "cell_type": "code",
   "execution_count": 28,
   "id": "be1a12c5-e7d7-45f8-8224-98b91c20325d",
   "metadata": {},
   "outputs": [
    {
     "data": {
      "text/plain": [
       "['unique_key',\n",
       " 'created_date',\n",
       " 'closed_date',\n",
       " 'agency',\n",
       " 'complaint_type',\n",
       " 'descriptor',\n",
       " 'location_type',\n",
       " 'zip_code',\n",
       " 'incident_address',\n",
       " 'cross_street_1',\n",
       " 'cross_street_2',\n",
       " 'intersection_street_1',\n",
       " 'intersection_street_2',\n",
       " 'address_type',\n",
       " 'city',\n",
       " 'landmark',\n",
       " 'facility_type',\n",
       " 'status',\n",
       " 'due_date',\n",
       " 'resolution_description',\n",
       " 'resolution_action_updated_date',\n",
       " 'community_board',\n",
       " 'bbl',\n",
       " 'borough',\n",
       " 'x_coordinate_(state_plane)',\n",
       " 'y_coordinate_(state_plane)',\n",
       " 'open_data_channel_type',\n",
       " 'park_facility_name',\n",
       " 'vehicle_type',\n",
       " 'taxi_company_borough',\n",
       " 'taxi_pick_up_location',\n",
       " 'bridge_highway_name',\n",
       " 'bridge_highway_direction',\n",
       " 'road_ramp',\n",
       " 'bridge_highway_segment',\n",
       " 'latitude',\n",
       " 'longitude',\n",
       " 'response_time',\n",
       " 'over3d',\n",
       " 'created_weekday',\n",
       " 'weekend_holiday',\n",
       " 'rainfall_time',\n",
       " 'rainfall_amount']"
      ]
     },
     "execution_count": 28,
     "metadata": {},
     "output_type": "execute_result"
    }
   ],
   "source": [
    "# Rename 'incident_zip' to 'zip_code' in df to match the other datasets\n",
    "df = df.rename(columns={'incident_zip': 'zip_code'})\n",
    "\n",
    "# Rename 'modzcta' to 'zip_code' in zip_df to match the other datasets\n",
    "zip_df = zip_df.rename(columns={'modzcta': 'zip_code'})\n",
    "\n",
    "# Convert ZIP codes to strings to avoid merging issues\n",
    "df['zip_code'] = df['zip_code'].astype(str)\n",
    "acs_df['zip_code'] = acs_df['zip_code'].astype(str)\n",
    "zip_df['zip_code'] = zip_df['zip_code'].astype(str)\n",
    "\n",
    "# Ensure proper zip_code format for merge\n",
    "df['zip_code'] = df['zip_code'].astype(float).astype(int).astype(str).str.zfill(5)\n",
    "acs_df['zip_code'] = acs_df['zip_code'].astype(str).str.zfill(5)\n",
    "zip_df['zip_code'] = zip_df['zip_code'].astype(str).str.zfill(5)\n",
    "\n",
    "\n",
    "# Rename conflicting columns in rainfall_df BEFORE merging\n",
    "rainfall_df = rainfall_df.rename(columns={'time': 'rainfall_time', 'date': 'rainfall_date', 'rainfall': 'rainfall_amount'})\n",
    "\n",
    "# Merge df with rainfall_df, using 'created_date' and 'rainfall_date' as keys\n",
    "df = df.merge(rainfall_df, left_on='created_date', right_on='rainfall_date', how='left')\n",
    "\n",
    "# Drop redundant 'rainfall_date' column after merge\n",
    "df = df.drop(columns=['rainfall_date'])\n",
    "\n",
    "# Display first few rows to confirm merge success\n",
    "df.columns.tolist()"
   ]
  },
  {
   "cell_type": "code",
   "execution_count": 29,
   "id": "29c1b65f-992c-4f40-a7bd-eaaf6451c6d0",
   "metadata": {},
   "outputs": [],
   "source": [
    "# Merge with ACS demographic data and zip code areas\n",
    "df = df.merge(acs_df, on='zip_code', how='left')\n",
    "df = df.merge(zip_df, on='zip_code', how='left')"
   ]
  },
  {
   "cell_type": "code",
   "execution_count": 30,
   "id": "42a40ffd-0697-43cc-962e-38fd43458f58",
   "metadata": {},
   "outputs": [],
   "source": [
    "df['hour'] = df['created_date'].dt.hour\n",
    "\n",
    "df['month'] = df['created_date'].dt.month\n",
    "\n",
    "# Define rush hour (7-9 AM, 4-7 PM)\n",
    "df['rush_hour'] = ((df['hour'].between(7, 9)) | (df['hour'].between(16, 19))).astype(int)"
   ]
  },
  {
   "cell_type": "code",
   "execution_count": 31,
   "id": "5b77460e-8589-4a13-ba24-0f681fabd7f6",
   "metadata": {},
   "outputs": [
    {
     "data": {
      "text/html": [
       "<div>\n",
       "<style scoped>\n",
       "    .dataframe tbody tr th:only-of-type {\n",
       "        vertical-align: middle;\n",
       "    }\n",
       "\n",
       "    .dataframe tbody tr th {\n",
       "        vertical-align: top;\n",
       "    }\n",
       "\n",
       "    .dataframe thead th {\n",
       "        text-align: right;\n",
       "    }\n",
       "</style>\n",
       "<table border=\"1\" class=\"dataframe\">\n",
       "  <thead>\n",
       "    <tr style=\"text-align: right;\">\n",
       "      <th></th>\n",
       "      <th>hour</th>\n",
       "      <th>month</th>\n",
       "      <th>rush_hour</th>\n",
       "      <th>rainfall_amount</th>\n",
       "      <th>median_household_income</th>\n",
       "      <th>total_population</th>\n",
       "      <th>land_area_sq_miles</th>\n",
       "      <th>created_weekday</th>\n",
       "      <th>weekend_holiday</th>\n",
       "      <th>white_population</th>\n",
       "      <th>asian_population</th>\n",
       "      <th>black_population</th>\n",
       "      <th>over3d</th>\n",
       "    </tr>\n",
       "  </thead>\n",
       "  <tbody>\n",
       "    <tr>\n",
       "      <th>0</th>\n",
       "      <td>23</td>\n",
       "      <td>12</td>\n",
       "      <td>0</td>\n",
       "      <td>NaN</td>\n",
       "      <td>71728.0</td>\n",
       "      <td>68182.0</td>\n",
       "      <td>17.971730</td>\n",
       "      <td>1</td>\n",
       "      <td>0</td>\n",
       "      <td>2687.0</td>\n",
       "      <td>2039.0</td>\n",
       "      <td>54552.0</td>\n",
       "      <td>0</td>\n",
       "    </tr>\n",
       "    <tr>\n",
       "      <th>1</th>\n",
       "      <td>23</td>\n",
       "      <td>12</td>\n",
       "      <td>0</td>\n",
       "      <td>NaN</td>\n",
       "      <td>51194.0</td>\n",
       "      <td>92283.0</td>\n",
       "      <td>2.576065</td>\n",
       "      <td>1</td>\n",
       "      <td>0</td>\n",
       "      <td>57607.0</td>\n",
       "      <td>20305.0</td>\n",
       "      <td>1444.0</td>\n",
       "      <td>0</td>\n",
       "    </tr>\n",
       "    <tr>\n",
       "      <th>2</th>\n",
       "      <td>23</td>\n",
       "      <td>12</td>\n",
       "      <td>0</td>\n",
       "      <td>NaN</td>\n",
       "      <td>102343.0</td>\n",
       "      <td>29544.0</td>\n",
       "      <td>3.113810</td>\n",
       "      <td>1</td>\n",
       "      <td>0</td>\n",
       "      <td>13140.0</td>\n",
       "      <td>11948.0</td>\n",
       "      <td>1154.0</td>\n",
       "      <td>0</td>\n",
       "    </tr>\n",
       "    <tr>\n",
       "      <th>3</th>\n",
       "      <td>22</td>\n",
       "      <td>12</td>\n",
       "      <td>0</td>\n",
       "      <td>NaN</td>\n",
       "      <td>51194.0</td>\n",
       "      <td>92283.0</td>\n",
       "      <td>2.576065</td>\n",
       "      <td>1</td>\n",
       "      <td>0</td>\n",
       "      <td>57607.0</td>\n",
       "      <td>20305.0</td>\n",
       "      <td>1444.0</td>\n",
       "      <td>0</td>\n",
       "    </tr>\n",
       "    <tr>\n",
       "      <th>4</th>\n",
       "      <td>22</td>\n",
       "      <td>12</td>\n",
       "      <td>0</td>\n",
       "      <td>NaN</td>\n",
       "      <td>84764.0</td>\n",
       "      <td>42211.0</td>\n",
       "      <td>6.984561</td>\n",
       "      <td>1</td>\n",
       "      <td>0</td>\n",
       "      <td>27671.0</td>\n",
       "      <td>8503.0</td>\n",
       "      <td>2004.0</td>\n",
       "      <td>0</td>\n",
       "    </tr>\n",
       "  </tbody>\n",
       "</table>\n",
       "</div>"
      ],
      "text/plain": [
       "   hour  month  rush_hour  rainfall_amount  median_household_income  \\\n",
       "0    23     12          0              NaN                  71728.0   \n",
       "1    23     12          0              NaN                  51194.0   \n",
       "2    23     12          0              NaN                 102343.0   \n",
       "3    22     12          0              NaN                  51194.0   \n",
       "4    22     12          0              NaN                  84764.0   \n",
       "\n",
       "   total_population  land_area_sq_miles  created_weekday  weekend_holiday  \\\n",
       "0           68182.0           17.971730                1                0   \n",
       "1           92283.0            2.576065                1                0   \n",
       "2           29544.0            3.113810                1                0   \n",
       "3           92283.0            2.576065                1                0   \n",
       "4           42211.0            6.984561                1                0   \n",
       "\n",
       "   white_population  asian_population  black_population  over3d  \n",
       "0            2687.0            2039.0           54552.0       0  \n",
       "1           57607.0           20305.0            1444.0       0  \n",
       "2           13140.0           11948.0            1154.0       0  \n",
       "3           57607.0           20305.0            1444.0       0  \n",
       "4           27671.0            8503.0            2004.0       0  "
      ]
     },
     "execution_count": 31,
     "metadata": {},
     "output_type": "execute_result"
    }
   ],
   "source": [
    "# Select relevant predictors\n",
    "predictor_columns = [\n",
    "    'hour', 'month', 'rush_hour', 'rainfall_amount',  \n",
    "    'median_household_income', 'total_population', 'land_area_sq_miles', \n",
    "    'created_weekday', 'weekend_holiday', 'white_population',\n",
    "    'asian_population', 'black_population'\n",
    "]  \n",
    "\n",
    "# Create the final modeling dataset\n",
    "model_data = df[predictor_columns + ['over3d']]\n",
    "\n",
    "model_data.head()"
   ]
  },
  {
   "cell_type": "markdown",
   "id": "cc579181-6c8d-41cd-b2ed-728c2d556a66",
   "metadata": {},
   "source": [
    "## Randomly select 20% of the complaints as testing data with seeds 1234. Build a logistic model to predict over3d for the complaints with the training data. If you have tuning parameters, justify how they were selected."
   ]
  },
  {
   "cell_type": "markdown",
   "id": "05259482-abb8-402f-a6fe-3ad92b09775c",
   "metadata": {},
   "source": [
    "### Fill Missing Values"
   ]
  },
  {
   "cell_type": "code",
   "execution_count": 32,
   "id": "dc29f024-5af4-4536-92f7-2aba0aa09ce9",
   "metadata": {},
   "outputs": [
    {
     "name": "stdout",
     "output_type": "stream",
     "text": [
      "Predictor columns with NaN values:\n",
      "rainfall_amount            9274\n",
      "median_household_income      29\n",
      "total_population             29\n",
      "land_area_sq_miles           43\n",
      "white_population             29\n",
      "asian_population             29\n",
      "black_population             29\n",
      "dtype: int64\n"
     ]
    }
   ],
   "source": [
    "# Count NaN values in predictor columns\n",
    "nan_counts = df[predictor_columns].isna().sum()\n",
    "\n",
    "# Filter only columns that contain NaN values\n",
    "nan_columns = nan_counts[nan_counts > 0]\n",
    "\n",
    "# Display columns with NaN values and their count\n",
    "print(\"Predictor columns with NaN values:\")\n",
    "print(nan_columns)"
   ]
  },
  {
   "cell_type": "code",
   "execution_count": 33,
   "id": "48857f2e-cce5-4f1b-b37d-44c875145c93",
   "metadata": {},
   "outputs": [
    {
     "data": {
      "text/plain": [
       "hour                        0\n",
       "month                       0\n",
       "rush_hour                   0\n",
       "rainfall_amount             0\n",
       "median_household_income    29\n",
       "total_population           29\n",
       "land_area_sq_miles         43\n",
       "created_weekday             0\n",
       "weekend_holiday             0\n",
       "white_population           29\n",
       "asian_population           29\n",
       "black_population           29\n",
       "dtype: int64"
      ]
     },
     "execution_count": 33,
     "metadata": {},
     "output_type": "execute_result"
    }
   ],
   "source": [
    "# Fill NaN values in rainfall_amount with 0\n",
    "df['rainfall_amount'] = df['rainfall_amount'].fillna(0)\n",
    "df[predictor_columns].isna().sum()"
   ]
  },
  {
   "cell_type": "code",
   "execution_count": 34,
   "id": "c98157da-0763-4dea-a5d2-9a2def442eb2",
   "metadata": {},
   "outputs": [
    {
     "name": "stdout",
     "output_type": "stream",
     "text": [
      "Remaining NaN values after imputation: 0\n"
     ]
    }
   ],
   "source": [
    "from sklearn.impute import KNNImputer\n",
    "\n",
    "# Define only the columns that need imputation\n",
    "columns_to_impute = ['median_household_income', 'total_population', \n",
    "                     'land_area_sq_miles', 'white_population', 'asian_population', \n",
    "                     'black_population'\n",
    "                    ]\n",
    "\n",
    "# Initialize KNN imputer\n",
    "imputer = KNNImputer(n_neighbors=5)\n",
    "\n",
    "# Apply KNN imputation only to the selected columns\n",
    "df[columns_to_impute] = imputer.fit_transform(df[columns_to_impute])\n",
    "\n",
    "# Verify if any NaN values remain in the selected columns\n",
    "print(\"Remaining NaN values after imputation:\", df[columns_to_impute].isna().sum().sum())  # Should print 0"
   ]
  },
  {
   "cell_type": "code",
   "execution_count": 35,
   "id": "45208ed4-96ef-4bdb-91ad-223c3806a235",
   "metadata": {},
   "outputs": [
    {
     "data": {
      "text/plain": [
       "hour                       0\n",
       "month                      0\n",
       "rush_hour                  0\n",
       "rainfall_amount            0\n",
       "median_household_income    0\n",
       "total_population           0\n",
       "land_area_sq_miles         0\n",
       "created_weekday            0\n",
       "weekend_holiday            0\n",
       "white_population           0\n",
       "asian_population           0\n",
       "black_population           0\n",
       "dtype: int64"
      ]
     },
     "execution_count": 35,
     "metadata": {},
     "output_type": "execute_result"
    }
   ],
   "source": [
    "df[predictor_columns].isna().sum()"
   ]
  },
  {
   "cell_type": "markdown",
   "id": "cd1c2c52-68e5-4bde-9c3b-23b24201de0c",
   "metadata": {},
   "source": [
    "### Fit logistic model"
   ]
  },
  {
   "cell_type": "code",
   "execution_count": 36,
   "id": "98b572b2-d2bc-4295-bee1-3fcd9794c8ca",
   "metadata": {},
   "outputs": [
    {
     "name": "stdout",
     "output_type": "stream",
     "text": [
      "Training set size: 7419\n",
      "Testing set size: 1855\n",
      "          predictor_columns  Coefficient\n",
      "0                      hour    -0.013892\n",
      "1                     month     0.000090\n",
      "2                 rush_hour    -0.037533\n",
      "3           rainfall_amount     0.000000\n",
      "4   median_household_income     0.000003\n",
      "5          total_population     0.000026\n",
      "6        land_area_sq_miles     0.089919\n",
      "7           created_weekday     0.251246\n",
      "8           weekend_holiday    -1.159726\n",
      "9          white_population    -0.000065\n",
      "10         asian_population    -0.000062\n",
      "11         black_population    -0.000053\n"
     ]
    }
   ],
   "source": [
    "from sklearn.model_selection import train_test_split\n",
    "from sklearn.linear_model import LogisticRegression\n",
    "\n",
    "# Set random seed\n",
    "np.random.seed(1234)\n",
    "\n",
    "# Define target\n",
    "target = 'over3d'\n",
    "\n",
    "X = df[predictor_columns]\n",
    "y = df[target]\n",
    "\n",
    "# Split data into training (80%) and testing (20%) sets\n",
    "X_train, X_test, y_train, y_test = train_test_split(X, y, test_size=0.2, random_state=1234, stratify=y)\n",
    "\n",
    "print(f\"Training set size: {X_train.shape[0]}\")\n",
    "print(f\"Testing set size: {X_test.shape[0]}\")\n",
    "\n",
    "# Initialize and train logistic regression model\n",
    "log_model = LogisticRegression(max_iter=10000, random_state=1234, class_weight='balanced')\n",
    "log_model.fit(X_train, y_train)\n",
    "\n",
    "# Display model coefficients\n",
    "coef_df = pd.DataFrame({'predictor_columns': predictor_columns, 'Coefficient': log_model.coef_[0]})\n",
    "print(coef_df)\n"
   ]
  },
  {
   "cell_type": "code",
   "execution_count": 37,
   "id": "6edf70ff-1532-45c1-9121-0a705444755f",
   "metadata": {},
   "outputs": [
    {
     "name": "stdout",
     "output_type": "stream",
     "text": [
      "Confusion Matrix - Training Data:\n",
      " [[3447 2358]\n",
      " [ 551 1063]]\n",
      "Confusion Matrix - Testing Data:\n",
      " [[900 552]\n",
      " [138 265]]\n",
      "Training Accuracy: 0.608, Precision: 0.311, Recall: 0.659, F1-score: 0.422\n",
      "Testing Accuracy: 0.628, Precision: 0.324, Recall: 0.658, F1-score: 0.434\n"
     ]
    }
   ],
   "source": [
    "from sklearn.metrics import confusion_matrix, accuracy_score, precision_score, recall_score, f1_score\n",
    "\n",
    "# Make predictions using the trained logistic model\n",
    "y_train_pred = (log_model.predict_proba(X_train)[:, 1] >= 0.5).astype(int)\n",
    "y_test_pred = (log_model.predict_proba(X_test)[:, 1] >= 0.5).astype(int)\n",
    "\n",
    "# Compute confusion matrices\n",
    "conf_matrix_train = confusion_matrix(y_train, y_train_pred)\n",
    "conf_matrix_test = confusion_matrix(y_test, y_test_pred)\n",
    "\n",
    "print(\"Confusion Matrix - Training Data:\\n\", conf_matrix_train)\n",
    "print(\"Confusion Matrix - Testing Data:\\n\", conf_matrix_test)\n",
    "\n",
    "# Calculate evaluation metrics for training data\n",
    "accuracy_train = accuracy_score(y_train, y_train_pred)\n",
    "precision_train = precision_score(y_train, y_train_pred)\n",
    "recall_train = recall_score(y_train, y_train_pred)\n",
    "f1_train = f1_score(y_train, y_train_pred)\n",
    "\n",
    "# Calculate evaluation metrics for testing data\n",
    "accuracy_test = accuracy_score(y_test, y_test_pred)\n",
    "precision_test = precision_score(y_test, y_test_pred)\n",
    "recall_test = recall_score(y_test, y_test_pred)\n",
    "f1_test = f1_score(y_test, y_test_pred)\n",
    "\n",
    "# Display results\n",
    "print(f\"Training Accuracy: {accuracy_train:.3f}, Precision: {precision_train:.3f}, Recall: {recall_train:.3f}, F1-score: {f1_train:.3f}\")\n",
    "print(f\"Testing Accuracy: {accuracy_test:.3f}, Precision: {precision_test:.3f}, Recall: {recall_test:.3f}, F1-score: {f1_test:.3f}\")\n"
   ]
  },
  {
   "cell_type": "markdown",
   "id": "bbd2eda7-a09a-45e1-9fa9-681c11657b38",
   "metadata": {},
   "source": [
    "### LASSO"
   ]
  },
  {
   "cell_type": "code",
   "execution_count": 38,
   "id": "76a86b99-6e71-47ff-851b-d66e5ddcb7a0",
   "metadata": {},
   "outputs": [
    {
     "name": "stdout",
     "output_type": "stream",
     "text": [
      "Confusion Matrix - Training Data:\n",
      " [[3420 2385]\n",
      " [ 535 1079]]\n",
      "Confusion Matrix - Testing Data:\n",
      " [[898 554]\n",
      " [134 269]]\n"
     ]
    }
   ],
   "source": [
    "from sklearn.model_selection import GridSearchCV\n",
    "from sklearn.linear_model import LogisticRegression\n",
    "\n",
    "# Define parameter grid for LASSO (L1 regularization)\n",
    "param_grid = {\n",
    "    'C': np.logspace(-4, 4, 10),\n",
    "    'penalty': ['l1'],  # L1\n",
    "    'solver': ['liblinear']\n",
    "}\n",
    "\n",
    "# Logistic Regression with balanced class weights\n",
    "log_reg = LogisticRegression(max_iter=10000, class_weight='balanced')\n",
    "\n",
    "# Perform Grid Search with 5-fold cross-validation (scoring based on F1-score)\n",
    "grid_search = GridSearchCV(log_reg, param_grid, cv=5, scoring='f1', n_jobs=-1)\n",
    "grid_search.fit(X_train, y_train)\n",
    "\n",
    "# Get best model from Grid Search\n",
    "best_model = grid_search.best_estimator_\n",
    "\n",
    "# Make predictions using the optimized logistic model\n",
    "y_train_pred = (best_model.predict_proba(X_train)[:, 1] >= 0.5).astype(int)\n",
    "y_test_pred = (best_model.predict_proba(X_test)[:, 1] >= 0.5).astype(int)\n",
    "\n",
    "# Compute confusion matrices\n",
    "conf_matrix_train = confusion_matrix(y_train, y_train_pred)\n",
    "conf_matrix_test = confusion_matrix(y_test, y_test_pred)\n",
    "\n",
    "print(\"Confusion Matrix - Training Data:\\n\", conf_matrix_train)\n",
    "print(\"Confusion Matrix - Testing Data:\\n\", conf_matrix_test)"
   ]
  },
  {
   "cell_type": "code",
   "execution_count": 39,
   "id": "04b02375-8481-49f0-b417-2effad392c9b",
   "metadata": {},
   "outputs": [
    {
     "name": "stdout",
     "output_type": "stream",
     "text": [
      "Training Accuracy: 0.606, Precision: 0.311, Recall: 0.669, F1-score: 0.425\n",
      "Testing Accuracy: 0.629, Precision: 0.327, Recall: 0.667, F1-score: 0.439\n"
     ]
    }
   ],
   "source": [
    "# Calculate evaluation metrics for training data\n",
    "accuracy_train = accuracy_score(y_train, y_train_pred)\n",
    "precision_train = precision_score(y_train, y_train_pred, zero_division=1)\n",
    "recall_train = recall_score(y_train, y_train_pred)\n",
    "f1_train = f1_score(y_train, y_train_pred)\n",
    "\n",
    "# Calculate evaluation metrics for testing data\n",
    "accuracy_test = accuracy_score(y_test, y_test_pred)\n",
    "precision_test = precision_score(y_test, y_test_pred, zero_division=1)\n",
    "recall_test = recall_score(y_test, y_test_pred)\n",
    "f1_test = f1_score(y_test, y_test_pred)\n",
    "\n",
    "# Display results\n",
    "print(f\"Training Accuracy: {accuracy_train:.3f}, Precision: {precision_train:.3f}, Recall: {recall_train:.3f}, F1-score: {f1_train:.3f}\")\n",
    "print(f\"Testing Accuracy: {accuracy_test:.3f}, Precision: {precision_test:.3f}, Recall: {recall_test:.3f}, F1-score: {f1_test:.3f}\")"
   ]
  },
  {
   "cell_type": "markdown",
   "id": "fa0d3d4e-b0d5-44be-9ea3-0e8721e82fa3",
   "metadata": {},
   "source": [
    "### Explanation\n",
    "\n",
    "Accuracy:\n",
    "\n",
    "* Training: 60.6%\n",
    "* Testing: 62.9%\n",
    "* If the model is 60-63% accurate, that means that the model correctly estimates the wait time 6/10 times, while the other 4/10 times you may be waiting a longer or shorter period of time than expected.\n",
    "\n",
    "\n",
    "Precision:\n",
    "\n",
    "* Training: 31.1%\n",
    "* Testing: 32.7%\n",
    "* This is how often the model correctly pin pointed a complaint that took over 3 days to complete. Since precision is low, it means we’re sometimes falsely predicting delays that do not occur.\n",
    "\n",
    "Recall:\n",
    "\n",
    "* Training: 69.9%\n",
    "* Testing: 66.7%\n",
    "* This means that we are catching about every 2/3 late complaints. Therefore, about 1/3 of complaints are waiting longer than expected.\n",
    "\n",
    "F1 Score: The Balance Between Precision & Recall\n",
    "\n",
    "* Training: 42.5%\n",
    "* Testing: 43.9%\n",
    "* This is the balance between precision and recall - balance between calling things late and things actually being late. If F1 is too low, we are either predicting complaints taking too long or not long enough. "
   ]
  },
  {
   "cell_type": "markdown",
   "id": "69612838-14fe-4718-80c1-d1361133b6f6",
   "metadata": {},
   "source": [
    "## Construct the ROC curve of your fitted logistic model and obtain the AUROC for both training and testing data. Explain your results to a New Yorker."
   ]
  },
  {
   "cell_type": "code",
   "execution_count": 42,
   "id": "f6f156f7-a3dc-4b62-b164-c19ef5a8dd38",
   "metadata": {},
   "outputs": [
    {
     "data": {
      "image/png": "[encoded data removed]",
      "text/plain": [
       "<Figure size 800x600 with 1 Axes>"
      ]
     },
     "metadata": {},
     "output_type": "display_data"
    },
    {
     "name": "stdout",
     "output_type": "stream",
     "text": [
      "Training AUROC: 0.678\n",
      "Testing AUROC: 0.690\n"
     ]
    }
   ],
   "source": [
    "import matplotlib.pyplot as plt\n",
    "from sklearn.metrics import roc_curve, auc\n",
    "\n",
    "# Get probability scores for positive class (over3d = 1)\n",
    "y_train_probs = log_model.predict_proba(X_train)[:, 1]\n",
    "y_test_probs = log_model.predict_proba(X_test)[:, 1]\n",
    "\n",
    "# Compute ROC curve and AUC for training data\n",
    "fpr_train, tpr_train, _ = roc_curve(y_train, y_train_probs)\n",
    "roc_auc_train = auc(fpr_train, tpr_train)\n",
    "\n",
    "# Compute ROC curve and AUC for testing data\n",
    "fpr_test, tpr_test, _ = roc_curve(y_test, y_test_probs)\n",
    "roc_auc_test = auc(fpr_test, tpr_test)\n",
    "\n",
    "# Plot ROC curves\n",
    "plt.figure(figsize=(8,6))\n",
    "plt.plot(fpr_train, tpr_train, label=f'Training AUC = {roc_auc_train:.3f}', color='blue')\n",
    "plt.plot(fpr_test, tpr_test, label=f'Testing AUC = {roc_auc_test:.3f}', color='red')\n",
    "plt.plot([0, 1], [0, 1], linestyle='--', color='gray', label=\"Random Guess (AUC = 0.5)\")\n",
    "\n",
    "plt.xlabel('False Positive Rate (FPR)')\n",
    "plt.ylabel('True Positive Rate (TPR)')\n",
    "plt.title('ROC Curve for Logistic Model')\n",
    "plt.legend(loc='lower right')\n",
    "plt.show()\n",
    "\n",
    "# Print AUROC scores\n",
    "print(f\"Training AUROC: {roc_auc_train:.3f}\")\n",
    "print(f\"Testing AUROC: {roc_auc_test:.3f}\")"
   ]
  },
  {
   "cell_type": "markdown",
   "id": "9995cd56-89c2-4a0a-8410-4d74d908cbcc",
   "metadata": {},
   "source": [
    "### ROC Explanation\n",
    "\n",
    "The AUROC (Area Under the Receiver Operating Characteristic Curve) is a score between 0 and 1 that shows how well the model can separate late complaints from on-time complaints:\n",
    "\n",
    "1.0 (Perfect Model) → The model always correctly identifies late complaints.\n",
    "0.5 (Random Guessing) → The model is no better than flipping a coin.\n",
    "\n",
    "Therefore, this model is 70% better than a random guess at distinguishing late complaints from on-time ones."
   ]
  },
  {
   "cell_type": "markdown",
   "id": "cb6cf3ac-2b69-4a9a-a6b6-95a4cf76116a",
   "metadata": {},
   "source": [
    "## Identify the most important predictors of over3d. Use model coefficients or feature importance (e.g., odds ratios, standardized coefficients, or SHAP values)."
   ]
  },
  {
   "cell_type": "code",
   "execution_count": 44,
   "id": "8e6e3c74-5855-4017-9f8d-205f459d0c1a",
   "metadata": {},
   "outputs": [
    {
     "data": {
      "text/html": [
       "<div>\n",
       "<style scoped>\n",
       "    .dataframe tbody tr th:only-of-type {\n",
       "        vertical-align: middle;\n",
       "    }\n",
       "\n",
       "    .dataframe tbody tr th {\n",
       "        vertical-align: top;\n",
       "    }\n",
       "\n",
       "    .dataframe thead th {\n",
       "        text-align: right;\n",
       "    }\n",
       "</style>\n",
       "<table border=\"1\" class=\"dataframe\">\n",
       "  <thead>\n",
       "    <tr style=\"text-align: right;\">\n",
       "      <th></th>\n",
       "      <th>predictor_columns</th>\n",
       "      <th>Coefficient</th>\n",
       "      <th>Odds Ratio</th>\n",
       "    </tr>\n",
       "  </thead>\n",
       "  <tbody>\n",
       "    <tr>\n",
       "      <th>7</th>\n",
       "      <td>created_weekday</td>\n",
       "      <td>0.251246</td>\n",
       "      <td>1.285626</td>\n",
       "    </tr>\n",
       "    <tr>\n",
       "      <th>6</th>\n",
       "      <td>land_area_sq_miles</td>\n",
       "      <td>0.089919</td>\n",
       "      <td>1.094086</td>\n",
       "    </tr>\n",
       "    <tr>\n",
       "      <th>1</th>\n",
       "      <td>month</td>\n",
       "      <td>0.000090</td>\n",
       "      <td>1.000090</td>\n",
       "    </tr>\n",
       "    <tr>\n",
       "      <th>5</th>\n",
       "      <td>total_population</td>\n",
       "      <td>0.000026</td>\n",
       "      <td>1.000026</td>\n",
       "    </tr>\n",
       "    <tr>\n",
       "      <th>4</th>\n",
       "      <td>median_household_income</td>\n",
       "      <td>0.000003</td>\n",
       "      <td>1.000003</td>\n",
       "    </tr>\n",
       "    <tr>\n",
       "      <th>3</th>\n",
       "      <td>rainfall_amount</td>\n",
       "      <td>0.000000</td>\n",
       "      <td>1.000000</td>\n",
       "    </tr>\n",
       "    <tr>\n",
       "      <th>11</th>\n",
       "      <td>black_population</td>\n",
       "      <td>-0.000053</td>\n",
       "      <td>0.999947</td>\n",
       "    </tr>\n",
       "    <tr>\n",
       "      <th>10</th>\n",
       "      <td>asian_population</td>\n",
       "      <td>-0.000062</td>\n",
       "      <td>0.999938</td>\n",
       "    </tr>\n",
       "    <tr>\n",
       "      <th>9</th>\n",
       "      <td>white_population</td>\n",
       "      <td>-0.000065</td>\n",
       "      <td>0.999935</td>\n",
       "    </tr>\n",
       "    <tr>\n",
       "      <th>0</th>\n",
       "      <td>hour</td>\n",
       "      <td>-0.013892</td>\n",
       "      <td>0.986205</td>\n",
       "    </tr>\n",
       "    <tr>\n",
       "      <th>2</th>\n",
       "      <td>rush_hour</td>\n",
       "      <td>-0.037533</td>\n",
       "      <td>0.963162</td>\n",
       "    </tr>\n",
       "    <tr>\n",
       "      <th>8</th>\n",
       "      <td>weekend_holiday</td>\n",
       "      <td>-1.159726</td>\n",
       "      <td>0.313572</td>\n",
       "    </tr>\n",
       "  </tbody>\n",
       "</table>\n",
       "</div>"
      ],
      "text/plain": [
       "          predictor_columns  Coefficient  Odds Ratio\n",
       "7           created_weekday     0.251246    1.285626\n",
       "6        land_area_sq_miles     0.089919    1.094086\n",
       "1                     month     0.000090    1.000090\n",
       "5          total_population     0.000026    1.000026\n",
       "4   median_household_income     0.000003    1.000003\n",
       "3           rainfall_amount     0.000000    1.000000\n",
       "11         black_population    -0.000053    0.999947\n",
       "10         asian_population    -0.000062    0.999938\n",
       "9          white_population    -0.000065    0.999935\n",
       "0                      hour    -0.013892    0.986205\n",
       "2                 rush_hour    -0.037533    0.963162\n",
       "8           weekend_holiday    -1.159726    0.313572"
      ]
     },
     "execution_count": 44,
     "metadata": {},
     "output_type": "execute_result"
    }
   ],
   "source": [
    "# Get the logistic regression coefficients\n",
    "coef_df = pd.DataFrame({'predictor_columns': X_train.columns, 'Coefficient': log_model.coef_[0]})\n",
    "\n",
    "# Compute Odds Ratios (exponentiate the coefficients)\n",
    "coef_df['Odds Ratio'] = np.exp(coef_df['Coefficient'])\n",
    "\n",
    "# Sort by absolute importance (higher coefficient magnitude means stronger effect)\n",
    "coef_df = coef_df.sort_values(by='Coefficient', ascending=False)\n",
    "\n",
    "# Display feature importance\n",
    "coef_df"
   ]
  },
  {
   "cell_type": "markdown",
   "id": "baf69930-35ce-4279-a808-16ec21e81b7a",
   "metadata": {},
   "source": [
    "This table shows how each predictor influences whether a complaint takes more than 3 days to complete.\n",
    "\n",
    "Coefficient: How much the feature increases or decreases the likelihood of a delay.\n",
    "Odds Ratio (>1 increases delays, <1 decreases delays)."
   ]
  },
  {
   "cell_type": "markdown",
   "id": "0caa0d5b-88de-466a-a73d-f92a425cef92",
   "metadata": {},
   "source": [
    "## Summarize your results to a New Yorker who is not data science savvy in several bullet points."
   ]
  },
  {
   "cell_type": "markdown",
   "id": "0301b7d7-6733-4fcb-8631-52b7b1169f87",
   "metadata": {},
   "source": [
    "* Weekday complaints take longer.\n",
    "    * If you report an issue Monday-Friday, it’s more likely to be delayed than if you report it on a weekend.\n",
    "\n",
    "* Larger areas = longer wait times.\n",
    "    * If you live in a big neighborhood with lots of land, response times tend to be slower.\n",
    "\n",
    "* Weekend & holiday complaints get fixed faster.\n",
    "    * Complaints made on weekends/holidays are way less likely to be delayed.\n",
    "\n",
    "* Rush hour doesn’t slow things down.\n",
    "    * Surprisingly, complaints during rush hour are actually resolved a little faster.\n",
    "\n",
    "* Your neighborhood’s income or racial makeup doesn’t affect response times.\n",
    "    * Whether your area is wealthy or has a high population of a certain group doesn’t seem to change how long it takes.\n",
    " \n",
    "Takeaways\n",
    "\n",
    "* If you want a faster response, report your flooding complaint on a weekend or holiday.\n",
    "\n",
    "* If you live in a large area, expect a longer wait."
   ]
  },
  {
   "cell_type": "markdown",
   "id": "f9d70ae4-16ed-452c-9d57-bb84200af20f",
   "metadata": {},
   "source": [
    "# Modeling the count of SF complains by zip code"
   ]
  },
  {
   "cell_type": "code",
   "execution_count": null,
   "id": "31cd8524-d391-4765-bcc1-c93b1af0d3ba",
   "metadata": {},
   "outputs": [],
   "source": []
  }
 ],
 "metadata": {
  "kernelspec": {
   "display_name": "exlore",
   "language": "python",
   "name": "venv"
  },
  "language_info": {
   "codemirror_mode": {
    "name": "ipython",
    "version": 3
   },
   "file_extension": ".py",
   "mimetype": "text/x-python",
   "name": "python",
   "nbconvert_exporter": "python",
   "pygments_lexer": "ipython3",
   "version": "3.12.2"
  }
 },
 "nbformat": 4,
 "nbformat_minor": 5
}
